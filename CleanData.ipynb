{
  "nbformat": 4,
  "nbformat_minor": 0,
  "metadata": {
    "accelerator": "GPU",
    "colab": {
      "name": "CleanData.ipynb",
      "provenance": [],
      "collapsed_sections": [
        "xlg4OMTZw1Fs",
        "yMp7O-CJw6P9"
      ]
    },
    "kernelspec": {
      "display_name": "Python 3",
      "language": "python",
      "name": "python3"
    },
    "language_info": {
      "codemirror_mode": {
        "name": "ipython",
        "version": 3
      },
      "file_extension": ".py",
      "mimetype": "text/x-python",
      "name": "python",
      "nbconvert_exporter": "python",
      "pygments_lexer": "ipython3",
      "version": "3.8.8"
    }
  },
  "cells": [
    {
      "cell_type": "markdown",
      "metadata": {
        "id": "MFf02xmLb97U"
      },
      "source": [
        "# Import Libaries"
      ]
    },
    {
      "cell_type": "code",
      "metadata": {
        "id": "9ArITHQvTq-c"
      },
      "source": [
        "from google.colab import drive\n",
        "drive.mount('/content/gdrive/')\n",
        "\n",
        "import os\n",
        "os.chdir(\"/content/gdrive/MyDrive/QuoraQuestions\")\n",
        "!ls"
      ],
      "execution_count": null,
      "outputs": []
    },
    {
      "cell_type": "code",
      "metadata": {
        "id": "nlDV-A4-Y0bl"
      },
      "source": [
        "import numpy as np\n",
        "import matplotlib.pyplot as plt\n",
        "import pandas as pd\n",
        "%matplotlib inline"
      ],
      "execution_count": null,
      "outputs": []
    },
    {
      "cell_type": "markdown",
      "metadata": {
        "id": "lR1qQLCEcAhv"
      },
      "source": [
        "# Open DF"
      ]
    },
    {
      "cell_type": "code",
      "metadata": {
        "colab": {
          "base_uri": "https://localhost:8080/"
        },
        "id": "AK59FI1QZSwu",
        "outputId": "533fbb72-109e-478e-dcbf-4de7b4eec693"
      },
      "source": [
        "train_df = pd.read_csv(\"train.csv\")\n",
        "train_df = train_df.dropna()\n",
        "\n",
        "train_df[\"id\"].astype('int64', copy=False)\n",
        "train_df[\"qid1\"].astype('int64', copy=False)\n",
        "train_df[\"qid2\"].astype('int64', copy=False)\n",
        "train_df[\"question1\"].astype('string', copy=False)\n",
        "train_df[\"question2\"].astype('string', copy=False)\n",
        "train_df[\"is_duplicate\"].astype('int64', copy=False)\n",
        "\n",
        "print(\"total number of samples: \", len(train_df))\n",
        "print(\"number of negative samples: \" , len(train_df[train_df['is_duplicate'] == 0]))\n",
        "print(\"number of positive samples: \" , len(train_df[train_df['is_duplicate'] == 1]))\n",
        "\n",
        "print(train_df.head())\n",
        "print(train_df.columns)"
      ],
      "execution_count": null,
      "outputs": [
        {
          "name": "stdout",
          "output_type": "stream",
          "text": [
            "total number of samples:  404287\n",
            "number of negative samples:  255024\n",
            "number of positive samples:  149263\n",
            "   id  qid1  qid2                                          question1  \\\n",
            "0   0     1     2  What is the step by step guide to invest in sh...   \n",
            "1   1     3     4  What is the story of Kohinoor (Koh-i-Noor) Dia...   \n",
            "2   2     5     6  How can I increase the speed of my internet co...   \n",
            "3   3     7     8  Why am I mentally very lonely? How can I solve...   \n",
            "4   4     9    10  Which one dissolve in water quikly sugar, salt...   \n",
            "\n",
            "                                           question2  is_duplicate  \n",
            "0  What is the step by step guide to invest in sh...             0  \n",
            "1  What would happen if the Indian government sto...             0  \n",
            "2  How can Internet speed be increased by hacking...             0  \n",
            "3  Find the remainder when [math]23^{24}[/math] i...             0  \n",
            "4            Which fish would survive in salt water?             0  \n",
            "Index(['id', 'qid1', 'qid2', 'question1', 'question2', 'is_duplicate'], dtype='object')\n"
          ]
        }
      ]
    },
    {
      "cell_type": "code",
      "metadata": {
        "colab": {
          "base_uri": "https://localhost:8080/",
          "height": 49
        },
        "id": "Sk_odQt9Yvhh",
        "outputId": "5971f10a-6a8c-42fb-a24f-ae7aec169cef"
      },
      "source": [
        "train_df[train_df.isnull().any(axis=1)]"
      ],
      "execution_count": null,
      "outputs": [
        {
          "data": {
            "text/html": [
              "<div>\n",
              "<style scoped>\n",
              "    .dataframe tbody tr th:only-of-type {\n",
              "        vertical-align: middle;\n",
              "    }\n",
              "\n",
              "    .dataframe tbody tr th {\n",
              "        vertical-align: top;\n",
              "    }\n",
              "\n",
              "    .dataframe thead th {\n",
              "        text-align: right;\n",
              "    }\n",
              "</style>\n",
              "<table border=\"1\" class=\"dataframe\">\n",
              "  <thead>\n",
              "    <tr style=\"text-align: right;\">\n",
              "      <th></th>\n",
              "      <th>id</th>\n",
              "      <th>qid1</th>\n",
              "      <th>qid2</th>\n",
              "      <th>question1</th>\n",
              "      <th>question2</th>\n",
              "      <th>is_duplicate</th>\n",
              "    </tr>\n",
              "  </thead>\n",
              "  <tbody>\n",
              "  </tbody>\n",
              "</table>\n",
              "</div>"
            ],
            "text/plain": [
              "Empty DataFrame\n",
              "Columns: [id, qid1, qid2, question1, question2, is_duplicate]\n",
              "Index: []"
            ]
          },
          "execution_count": 3,
          "metadata": {},
          "output_type": "execute_result"
        }
      ]
    },
    {
      "cell_type": "code",
      "metadata": {
        "id": "p-vRiswErYvr"
      },
      "source": [
        "max_id = max(train_df['id'])\n",
        "max_qid = max(max(train_df['qid1']), max(train_df['qid2']))"
      ],
      "execution_count": null,
      "outputs": []
    },
    {
      "cell_type": "markdown",
      "metadata": {
        "id": "xlg4OMTZw1Fs"
      },
      "source": [
        "# Data Generation"
      ]
    },
    {
      "cell_type": "code",
      "metadata": {
        "colab": {
          "base_uri": "https://localhost:8080/"
        },
        "id": "PyXPegwSp0LH",
        "outputId": "e888a91a-810a-4a1e-9a92-a425bb754084"
      },
      "source": [
        "#if A and B are duplicates and B and C are duplicate, it is reasonable to assume that A and C are duplicates\n",
        "\n",
        "id_to_sentence = {}\n",
        "for idx, sample in train_df.iterrows():\n",
        "    sample1_id = sample['qid1']\n",
        "    sample2_id = sample['qid2']\n",
        "\n",
        "    if sample1_id not in id_to_sentence.keys():\n",
        "        id_to_sentence[sample1_id] = sample['question1']\n",
        "    \n",
        "    if sample2_id not in id_to_sentence.keys():\n",
        "        id_to_sentence[sample2_id] = sample['question2']\n",
        "\n",
        "print(id_to_sentence[10])"
      ],
      "execution_count": null,
      "outputs": [
        {
          "name": "stdout",
          "output_type": "stream",
          "text": [
            "Which fish would survive in salt water?\n"
          ]
        }
      ]
    },
    {
      "cell_type": "code",
      "metadata": {
        "colab": {
          "base_uri": "https://localhost:8080/"
        },
        "id": "65yzhaBkbP0f",
        "outputId": "6eeb2df9-31a2-40ec-b244-f72d4764feb7"
      },
      "source": [
        "duplicate_dict = {}\n",
        "\n",
        "def get_linking_dict(output_dict, is_duplicate):\n",
        "    for idx, sample in train_df[train_df['is_duplicate'] == is_duplicate].iterrows():\n",
        "        sample1_id = sample['qid1']\n",
        "        sample2_id = sample['qid2']\n",
        "\n",
        "        if sample1_id in output_dict.keys():\n",
        "            output_dict[sample1_id].append(sample2_id)\n",
        "        else:\n",
        "            output_dict[sample1_id] = [sample2_id]\n",
        "\n",
        "        if sample2_id in output_dict.keys():\n",
        "            output_dict[sample2_id].append(sample1_id)\n",
        "        else:\n",
        "            output_dict[sample2_id] = [sample1_id]\n",
        "\n",
        "get_linking_dict(duplicate_dict, 1)\n",
        "print(len(duplicate_dict))"
      ],
      "execution_count": null,
      "outputs": [
        {
          "name": "stdout",
          "output_type": "stream",
          "text": [
            "149650\n"
          ]
        }
      ]
    },
    {
      "cell_type": "code",
      "metadata": {
        "id": "s_-9QeGdg-YG"
      },
      "source": [
        "def f(pdict, index, isduplicate):\n",
        "    id_list = []\n",
        "    qid1_list = []\n",
        "    qid2_list = []\n",
        "    question1_list = []\n",
        "    question2_list = []\n",
        "    is_duplicate_list = []\n",
        "\n",
        "    for A in pdict.keys():\n",
        "        A_list = pdict[A]\n",
        "        for B in A_list:\n",
        "            B_list = pdict[B]\n",
        "            for C in B_list:\n",
        "                if C == A:\n",
        "                    pass\n",
        "                else:\n",
        "                    C_list = pdict[C]\n",
        "                    if A not in C_list:\n",
        "                        id_list.append(index)\n",
        "                        index = index + 1\n",
        "\n",
        "                        qid1_list.append(A)\n",
        "                        qid2_list.append(C)\n",
        "\n",
        "                        question1_list.append(id_to_sentence[A])\n",
        "                        question2_list.append(id_to_sentence[C])\n",
        "\n",
        "                        is_duplicate_list.append(isduplicate)\n",
        "    \n",
        "    d = {'id': id_list, 'qid1': qid1_list, 'qid2':qid2_list, 'question1':question1_list, 'question2':question2_list, 'is_duplicate':is_duplicate_list}\n",
        "    df = pd.DataFrame(data=d)\n",
        "    return df, index\n",
        "\n",
        "duplicate_pairs_df, index = f(duplicate_dict, max_id + 1, 1)\n"
      ],
      "execution_count": null,
      "outputs": []
    },
    {
      "cell_type": "code",
      "metadata": {
        "colab": {
          "base_uri": "https://localhost:8080/"
        },
        "id": "BC-qTtMpZuqt",
        "outputId": "f8c77c7c-63f2-4b65-cb2b-48452b04ec16"
      },
      "source": [
        "full_train_df = pd.concat([train_df, duplicate_pairs_df], axis=0, ignore_index=True)\n",
        "\n",
        "print(\"total number of samples: \", len(full_train_df))\n",
        "print(\"number of negative samples: \" , len(full_train_df[full_train_df['is_duplicate'] == 0]))\n",
        "print(\"number of positive samples: \" , len(full_train_df[full_train_df['is_duplicate'] == 1]))\n",
        "\n",
        "print(full_train_df.columns)\n",
        "print(full_train_df)"
      ],
      "execution_count": null,
      "outputs": [
        {
          "name": "stdout",
          "output_type": "stream",
          "text": [
            "total number of samples:  800169\n",
            "number of negative samples:  255024\n",
            "number of positive samples:  545145\n",
            "Index(['id', 'qid1', 'qid2', 'question1', 'question2', 'is_duplicate'], dtype='object')\n",
            "            id    qid1    qid2  \\\n",
            "0            0       1       2   \n",
            "1            1       3       4   \n",
            "2            2       5       6   \n",
            "3            3       7       8   \n",
            "4            4       9      10   \n",
            "...        ...     ...     ...   \n",
            "800164  800167  537487  145473   \n",
            "800165  800168  537580   67133   \n",
            "800166  800169  537580  168082   \n",
            "800167  800170  537762  132589   \n",
            "800168  800171  537894  187745   \n",
            "\n",
            "                                                question1  \\\n",
            "0       What is the step by step guide to invest in sh...   \n",
            "1       What is the story of Kohinoor (Koh-i-Noor) Dia...   \n",
            "2       How can I increase the speed of my internet co...   \n",
            "3       Why am I mentally very lonely? How can I solve...   \n",
            "4       Which one dissolve in water quikly sugar, salt...   \n",
            "...                                                   ...   \n",
            "800164     What does that mean if a girl calls you crazy?   \n",
            "800165    How do I determine if I am bisexual or lesbian?   \n",
            "800166    How do I determine if I am bisexual or lesbian?   \n",
            "800167         What is your favorite vodka drink and why?   \n",
            "800168  Among Bollywood stars, which actor or actress ...   \n",
            "\n",
            "                                                question2  is_duplicate  \n",
            "0       What is the step by step guide to invest in sh...             0  \n",
            "1       What would happen if the Indian government sto...             0  \n",
            "2       How can Internet speed be increased by hacking...             0  \n",
            "3       Find the remainder when [math]23^{24}[/math] i...             0  \n",
            "4                 Which fish would survive in salt water?             0  \n",
            "...                                                   ...           ...  \n",
            "800164  If a girl says \"you are crazy\", what does it m...             1  \n",
            "800165                Am I bisexual, lesbian or straight?             1  \n",
            "800166  How do I know if I am bisexual, lesbian or str...             1  \n",
            "800167                      What is your favourite vodka?             1  \n",
            "800168              Who are the over actors of Bollywood?             1  \n",
            "\n",
            "[800169 rows x 6 columns]\n"
          ]
        }
      ]
    },
    {
      "cell_type": "code",
      "metadata": {
        "id": "dRekoWgObiBS"
      },
      "source": [
        "full_train_df.to_csv(\"fulltrain.csv\",index=False)"
      ],
      "execution_count": null,
      "outputs": []
    },
    {
      "cell_type": "markdown",
      "metadata": {
        "id": "yMp7O-CJw6P9"
      },
      "source": [
        "# Data Cleaning Functions"
      ]
    },
    {
      "cell_type": "code",
      "metadata": {
        "colab": {
          "base_uri": "https://localhost:8080/"
        },
        "id": "0qaRjnWhmg8c",
        "outputId": "0889618f-c0d0-4aa5-e908-6a2ce97645af"
      },
      "source": [
        "import nltk\n",
        "from nltk.corpus import stopwords\n",
        "from nltk.stem import SnowballStemmer\n",
        "from nltk.stem import WordNetLemmatizer\n",
        "from functools import lru_cache\n",
        "from nltk.corpus import wordnet\n",
        "\n",
        "\n",
        "from bs4 import BeautifulSoup\n",
        "import re\n",
        "\n",
        "nltk.download('stopwords')\n",
        "nltk.download('punkt')\n",
        "nltk.download('averaged_perceptron_tagger')\n",
        "nltk.download('wordnet')"
      ],
      "execution_count": null,
      "outputs": [
        {
          "name": "stderr",
          "output_type": "stream",
          "text": [
            "[nltk_data] Downloading package stopwords to\n",
            "[nltk_data]     C:\\Users\\teohq\\AppData\\Roaming\\nltk_data...\n",
            "[nltk_data]   Package stopwords is already up-to-date!\n",
            "[nltk_data] Downloading package punkt to\n",
            "[nltk_data]     C:\\Users\\teohq\\AppData\\Roaming\\nltk_data...\n",
            "[nltk_data]   Package punkt is already up-to-date!\n",
            "[nltk_data] Downloading package averaged_perceptron_tagger to\n",
            "[nltk_data]     C:\\Users\\teohq\\AppData\\Roaming\\nltk_data...\n",
            "[nltk_data]   Package averaged_perceptron_tagger is already up-to-\n",
            "[nltk_data]       date!\n",
            "[nltk_data] Downloading package wordnet to\n",
            "[nltk_data]     C:\\Users\\teohq\\AppData\\Roaming\\nltk_data...\n",
            "[nltk_data]   Package wordnet is already up-to-date!\n"
          ]
        },
        {
          "data": {
            "text/plain": [
              "True"
            ]
          },
          "execution_count": 10,
          "metadata": {},
          "output_type": "execute_result"
        }
      ]
    },
    {
      "cell_type": "code",
      "metadata": {
        "colab": {
          "base_uri": "https://localhost:8080/",
          "height": 52
        },
        "id": "z-kWn19cM3Z6",
        "outputId": "72106e17-a722-43f5-9850-d7f8c5928a41"
      },
      "source": [
        "# data cleaning\n",
        "lemmatizer = WordNetLemmatizer()  \n",
        "lemmatize = lru_cache(maxsize=100000)(lemmatizer.lemmatize)\n",
        "\n",
        "def processQuestion(qn, isRemoveStopWords, isLemmatize):\n",
        "  # Convert text to lower case.\n",
        "  qn = str(qn).lower().strip()\n",
        "\n",
        "  # Replace some numerical values with strings. This should run after remove punctuation.\n",
        "  numberDictionary = {\n",
        "      \"000\": \" thousand \", \n",
        "      \"000000\": \" million \", \n",
        "      \"000000000\": \" billion \"\n",
        "  }\n",
        "  for item in numberDictionary.items():\n",
        "    qn = qn.replace(item[0], item[1])\n",
        "  \n",
        "  # Replace some characters with their string equivalents (Eg: $, %, + etc.).\n",
        "  symbolDictionary = {\n",
        "      \"$\": \" dollar \", \n",
        "      \"€\": \" euro \",\n",
        "      '₹': \" rupee \",\n",
        "      \"£\": \" pound \",\n",
        "      \"%\": \" percent \", \n",
        "      \"+\": \" plus \",\n",
        "      '&': \" and \",\n",
        "      '#': \" hashtag \",\n",
        "      '@': \" at \"\n",
        "  }\n",
        "  for item in symbolDictionary.items():\n",
        "    qn = qn.replace(item[0], item[1])\n",
        "  \n",
        "  # Decontract words (“don’t” becomes “do not”). Modifed from https://en.wikipedia.org/wiki/Wikipedia%3aList_of_English_contractions\n",
        "  contractions = { \n",
        "    \"ain't\": \"is not\",\n",
        "    \"aren't\": \"are not\",\n",
        "    \"can't\": \"cannot\",\n",
        "    \"can't've\": \"cannot have\",\n",
        "    \"'cause\": \"because\",\n",
        "    \"could've\": \"could have\",\n",
        "    \"couldn't\": \"could not\",\n",
        "    \"couldn't've\": \"could not have\",\n",
        "    \"didn't\": \"did not\",\n",
        "    \"doesn't\": \"does not\",\n",
        "    \"don't\": \"do not\",\n",
        "    \"hadn't\": \"had not\",\n",
        "    \"hadn't've\": \"had not have\",\n",
        "    \"hasn't\": \"has not\",\n",
        "    \"haven't\": \"have not\",\n",
        "    \"he'd\": \"he would\",\n",
        "    \"he'd've\": \"he would have\",\n",
        "    \"he'll\": \"he will\",\n",
        "    \"he'll've\": \"he will have\",\n",
        "    \"he's\": \"he has\",\n",
        "    \"how'd\": \"how did\",\n",
        "    \"how'd'y\": \"how do you\",\n",
        "    \"how'll\": \"how will\",\n",
        "    \"how's\": \"how is\",\n",
        "    \"I'd\": \"I would\",\n",
        "    \"I'd've\": \"I would have\",\n",
        "    \"I'll\": \"I will\",\n",
        "    \"I'll've\": \"I will have\",\n",
        "    \"I'm\": \"I am\",\n",
        "    \"I've\": \"I have\",\n",
        "    \"isn't\": \"is not\",\n",
        "    \"it'd\": \"it would\",\n",
        "    \"it'd've\": \"it would have\",\n",
        "    \"it'll\": \"it will\",\n",
        "    \"it'll've\": \"it will have\",\n",
        "    \"it's\": \"it is\",\n",
        "    \"let's\": \"let us\",\n",
        "    \"ma'am\": \"madam\",\n",
        "    \"mayn't\": \"may not\",\n",
        "    \"might've\": \"might have\",\n",
        "    \"mightn't\": \"might not\",\n",
        "    \"mightn't've\": \"might not have\",\n",
        "    \"must've\": \"must have\",\n",
        "    \"mustn't\": \"must not\",\n",
        "    \"mustn't've\": \"must not have\",\n",
        "    \"needn't\": \"need not\",\n",
        "    \"needn't've\": \"need not have\",\n",
        "    \"o'clock\": \"of the clock\",\n",
        "    \"oughtn't\": \"ought not\",\n",
        "    \"oughtn't've\": \"ought not have\",\n",
        "    \"shan't\": \"shall not\",\n",
        "    \"sha'n't\": \"shall not\",\n",
        "    \"shan't've\": \"shall not have\",\n",
        "    \"she'd\": \"she would\",\n",
        "    \"she'd've\": \"she would have\",\n",
        "    \"she'll\": \"she will\",\n",
        "    \"she'll've\": \"she will have\",\n",
        "    \"she's\": \"she is\",\n",
        "    \"should've\": \"should have\",\n",
        "    \"shouldn't\": \"should not\",\n",
        "    \"shouldn't've\": \"should not have\",\n",
        "    \"so've\": \"so have\",\n",
        "    \"so's\": \"so as\",\n",
        "    \"that'd\": \"that would\",\n",
        "    \"that'd've\": \"that would have\",\n",
        "    \"that's\": \"that is\",\n",
        "    \"there'd\": \"there would\",\n",
        "    \"there'd've\": \"there would have\",\n",
        "    \"there's\": \"there is\",\n",
        "    \"they'd\": \"they would\",\n",
        "    \"they'd've\": \"they would have\",\n",
        "    \"they'll\": \"they will\",\n",
        "    \"they'll've\": \"they will have\",\n",
        "    \"they're\": \"they are\",\n",
        "    \"they've\": \"they have\",\n",
        "    \"to've\": \"to have\",\n",
        "    \"wasn't\": \"was not\",\n",
        "    \"we'd\": \"we would\",\n",
        "    \"we'd've\": \"we would have\",\n",
        "    \"we'll\": \"we will\",\n",
        "    \"we'll've\": \"we will have\",\n",
        "    \"we're\": \"we are\",\n",
        "    \"we've\": \"we have\",\n",
        "    \"weren't\": \"were not\",\n",
        "    \"what'll\": \"what will\",\n",
        "    \"what'll've\": \"what will have\",\n",
        "    \"what're\": \"what are\",\n",
        "    \"what's\": \"what is\",\n",
        "    \"what've\": \"what have\",\n",
        "    \"when's\": \"when is\",\n",
        "    \"when've\": \"when have\",\n",
        "    \"where'd\": \"where did\",\n",
        "    \"where's\": \"where is\",\n",
        "    \"where've\": \"where have\",\n",
        "    \"who'll\": \"who will\",\n",
        "    \"who'll've\": \"who will have\",\n",
        "    \"who's\": \"who is\",\n",
        "    \"who've\": \"who have\",\n",
        "    \"why's\": \"why is\",\n",
        "    \"why've\": \"why have\",\n",
        "    \"will've\": \"will have\",\n",
        "    \"won't\": \"will not\",\n",
        "    \"won't've\": \"will not have\",\n",
        "    \"would've\": \"would have\",\n",
        "    \"wouldn't\": \"would not\",\n",
        "    \"wouldn't've\": \"would not have\",\n",
        "    \"y'all\": \"you all\",\n",
        "    \"y'all'd\": \"you all would\",\n",
        "    \"y'all'd've\": \"you all would have\",\n",
        "    \"y'all're\": \"you all are\",\n",
        "    \"y'all've\": \"you all have\",\n",
        "    \"you'd\": \"you would\",\n",
        "    \"you'd've\": \"you would have\",\n",
        "    \"you'll\": \"you will\",\n",
        "    \"you'll've\": \"you will have\",\n",
        "    \"you're\": \"you are\",\n",
        "    \"you've\": \"you have\"\n",
        "    }\n",
        "  for item in contractions.items():\n",
        "    qn = qn.replace(item[0], item[1])\n",
        "  \n",
        "  edge_contractions = {\n",
        "      \"'ve\": \"have\",\n",
        "      \"n't\": \"not\",\n",
        "      \"'re\": \"are\",\n",
        "      \"'ll\": \"will\"\n",
        "  }\n",
        "  for item in edge_contractions.items():\n",
        "    qn = qn.replace(item[0], item[1])\n",
        "\n",
        "  # Remove punctuation.\n",
        "  qn = re.sub('\\W+',' ', qn )\n",
        "\n",
        "  #remove in between whitespace\n",
        "  qn = re.sub(' +', ' ', qn)\n",
        "\n",
        "  # Stop word removal.\n",
        "  if isRemoveStopWords:\n",
        "    stop_words = set(stopwords.words(\"english\"))\n",
        "    qn = ' '.join([word for word in nltk.word_tokenize(qn) if not word in stop_words])\n",
        "\n",
        "  # Lemmatization with POS\n",
        "  # Map POS tag to first character lemmatize() accepts\n",
        "  if isLemmatize:\n",
        "    def get_wordnet_pos(word):\n",
        "      tag = nltk.pos_tag([word])[0][1][0].upper()\n",
        "      tag_dict = {\"J\": wordnet.ADJ,\n",
        "                  \"N\": wordnet.NOUN,\n",
        "                  \"V\": wordnet.VERB,\n",
        "                  \"R\": wordnet.ADV}\n",
        "      return tag_dict.get(tag, wordnet.NOUN)\n",
        "    \n",
        "    \n",
        "    qn = ' '.join([lemmatize(w, get_wordnet_pos(w)) for w in nltk.word_tokenize(qn)])\n",
        "\n",
        "  return qn\n",
        "\n",
        "print(id_to_sentence[101])\n",
        "processQuestion(id_to_sentence[101], True, True)\n"
      ],
      "execution_count": null,
      "outputs": [
        {
          "name": "stdout",
          "output_type": "stream",
          "text": [
            "Is Career Launcher good for RBI Grade B preparation?\n"
          ]
        },
        {
          "data": {
            "text/plain": [
              "'career launcher good rbi grade b preparation'"
            ]
          },
          "execution_count": 11,
          "metadata": {},
          "output_type": "execute_result"
        }
      ]
    },
    {
      "cell_type": "markdown",
      "metadata": {
        "id": "I_RRHEY87stu"
      },
      "source": [
        "# Data Cleaning"
      ]
    },
    {
      "cell_type": "code",
      "metadata": {
        "id": "MggTR_7dWQ9x"
      },
      "source": [
        "def get_dict_element(x, somedict):\n",
        "    return somedict[x]"
      ],
      "execution_count": null,
      "outputs": []
    },
    {
      "cell_type": "code",
      "metadata": {
        "id": "oTp0qjQpWQ9x",
        "outputId": "e45d986c-ea3d-4340-8766-27e3d10684a4"
      },
      "source": [
        "cleaned_sentences = {}\n",
        "print(len(id_to_sentence.keys()))\n",
        "for currentid in id_to_sentence.keys():\n",
        "    cleaned_sentences[currentid] = processQuestion(id_to_sentence[currentid], False, False)\n",
        "    \n",
        "    if currentid % 100000 == 0:\n",
        "        print(\"done till \", currentid)\n",
        "\n",
        "full_train_df['question1_cleaned'] = full_train_df['qid1'].apply(lambda x: get_dict_element(x, cleaned_sentences))\n",
        "full_train_df['question2_cleaned'] = full_train_df['qid2'].apply(lambda x: get_dict_element(x, cleaned_sentences))"
      ],
      "execution_count": null,
      "outputs": [
        {
          "name": "stdout",
          "output_type": "stream",
          "text": [
            "537929\n",
            "done till  100000\n",
            "done till  200000\n",
            "done till  300000\n",
            "done till  400000\n",
            "done till  500000\n"
          ]
        }
      ]
    },
    {
      "cell_type": "code",
      "metadata": {
        "id": "Urm7qqf8WQ9x",
        "outputId": "2579bddd-ced7-4e76-c04f-6c2a524067f0"
      },
      "source": [
        "cleaned_stopwords_lemmatize_sentences = {}\n",
        "for currentid in id_to_sentence.keys():\n",
        "    cleaned_stopwords_lemmatize_sentences[currentid] = processQuestion(id_to_sentence[currentid], True, True)\n",
        "    \n",
        "    if currentid % 100000 == 0:\n",
        "        print(\"done till \", currentid)\n",
        "\n",
        "full_train_df['question1_stopwords_lemmatize'] = full_train_df['qid1'].apply(lambda x: get_dict_element(x, cleaned_stopwords_lemmatize_sentences))\n",
        "full_train_df['question2_stopwords_lemmatize'] = full_train_df['qid2'].apply(lambda x: get_dict_element(x, cleaned_stopwords_lemmatize_sentences))\n"
      ],
      "execution_count": null,
      "outputs": [
        {
          "name": "stdout",
          "output_type": "stream",
          "text": [
            "done till  100000\n",
            "done till  200000\n",
            "done till  300000\n",
            "done till  400000\n",
            "done till  500000\n"
          ]
        }
      ]
    },
    {
      "cell_type": "code",
      "metadata": {
        "id": "Pyq_04fAWQ9y",
        "outputId": "ec3ba1c8-b6b7-4574-85a8-ad66fcc72123"
      },
      "source": [
        "cleaned_stopwords_sentences = {}\n",
        "for currentid in id_to_sentence.keys():\n",
        "    cleaned_stopwords_sentences[currentid] = processQuestion(id_to_sentence[currentid], True, False)\n",
        "    \n",
        "    if currentid % 100000 == 0:\n",
        "        print(\"done till \", currentid)\n",
        "\n",
        "full_train_df['question1_stopwords'] =  full_train_df['qid1'].apply(lambda x: get_dict_element(x, cleaned_stopwords_sentences))\n",
        "full_train_df['question2_stopwords'] =  full_train_df['qid2'].apply(lambda x: get_dict_element(x, cleaned_stopwords_sentences))"
      ],
      "execution_count": null,
      "outputs": [
        {
          "name": "stdout",
          "output_type": "stream",
          "text": [
            "done till  100000\n",
            "done till  200000\n",
            "done till  300000\n",
            "done till  400000\n",
            "done till  500000\n"
          ]
        }
      ]
    },
    {
      "cell_type": "code",
      "metadata": {
        "colab": {
          "base_uri": "https://localhost:8080/"
        },
        "id": "CFNS4u7R6DnT",
        "outputId": "42b47fbc-345f-4375-cbee-f8dab0e76c16"
      },
      "source": [
        "full_train_df\n"
      ],
      "execution_count": null,
      "outputs": [
        {
          "data": {
            "text/html": [
              "<div>\n",
              "<style scoped>\n",
              "    .dataframe tbody tr th:only-of-type {\n",
              "        vertical-align: middle;\n",
              "    }\n",
              "\n",
              "    .dataframe tbody tr th {\n",
              "        vertical-align: top;\n",
              "    }\n",
              "\n",
              "    .dataframe thead th {\n",
              "        text-align: right;\n",
              "    }\n",
              "</style>\n",
              "<table border=\"1\" class=\"dataframe\">\n",
              "  <thead>\n",
              "    <tr style=\"text-align: right;\">\n",
              "      <th></th>\n",
              "      <th>id</th>\n",
              "      <th>qid1</th>\n",
              "      <th>qid2</th>\n",
              "      <th>question1</th>\n",
              "      <th>question2</th>\n",
              "      <th>is_duplicate</th>\n",
              "      <th>question1_cleaned</th>\n",
              "      <th>question2_cleaned</th>\n",
              "      <th>question1_stopwords_lemmatize</th>\n",
              "      <th>question2_stopwords_lemmatize</th>\n",
              "      <th>question1_stopwords</th>\n",
              "      <th>question2_stopwords</th>\n",
              "    </tr>\n",
              "  </thead>\n",
              "  <tbody>\n",
              "    <tr>\n",
              "      <th>0</th>\n",
              "      <td>0</td>\n",
              "      <td>1</td>\n",
              "      <td>2</td>\n",
              "      <td>What is the step by step guide to invest in sh...</td>\n",
              "      <td>What is the step by step guide to invest in sh...</td>\n",
              "      <td>0</td>\n",
              "      <td>what is the step by step guide to invest in sh...</td>\n",
              "      <td>what is the step by step guide to invest in sh...</td>\n",
              "      <td>step step guide invest share market india</td>\n",
              "      <td>step step guide invest share market</td>\n",
              "      <td>step step guide invest share market india</td>\n",
              "      <td>step step guide invest share market</td>\n",
              "    </tr>\n",
              "    <tr>\n",
              "      <th>1</th>\n",
              "      <td>1</td>\n",
              "      <td>3</td>\n",
              "      <td>4</td>\n",
              "      <td>What is the story of Kohinoor (Koh-i-Noor) Dia...</td>\n",
              "      <td>What would happen if the Indian government sto...</td>\n",
              "      <td>0</td>\n",
              "      <td>what is the story of kohinoor koh i noor diamond</td>\n",
              "      <td>what would happen if the indian government sto...</td>\n",
              "      <td>story kohinoor koh noor diamond</td>\n",
              "      <td>would happen indian government stole kohinoor ...</td>\n",
              "      <td>story kohinoor koh noor diamond</td>\n",
              "      <td>would happen indian government stole kohinoor ...</td>\n",
              "    </tr>\n",
              "    <tr>\n",
              "      <th>2</th>\n",
              "      <td>2</td>\n",
              "      <td>5</td>\n",
              "      <td>6</td>\n",
              "      <td>How can I increase the speed of my internet co...</td>\n",
              "      <td>How can Internet speed be increased by hacking...</td>\n",
              "      <td>0</td>\n",
              "      <td>how can i increase the speed of my internet co...</td>\n",
              "      <td>how can internet speed be increased by hacking...</td>\n",
              "      <td>increase speed internet connection use vpn</td>\n",
              "      <td>internet speed increase hack dns</td>\n",
              "      <td>increase speed internet connection using vpn</td>\n",
              "      <td>internet speed increased hacking dns</td>\n",
              "    </tr>\n",
              "    <tr>\n",
              "      <th>3</th>\n",
              "      <td>3</td>\n",
              "      <td>7</td>\n",
              "      <td>8</td>\n",
              "      <td>Why am I mentally very lonely? How can I solve...</td>\n",
              "      <td>Find the remainder when [math]23^{24}[/math] i...</td>\n",
              "      <td>0</td>\n",
              "      <td>why am i mentally very lonely how can i solve it</td>\n",
              "      <td>find the remainder when math 23 24 math is div...</td>\n",
              "      <td>mentally lonely solve</td>\n",
              "      <td>find remainder math 23 24 math divide 24 23</td>\n",
              "      <td>mentally lonely solve</td>\n",
              "      <td>find remainder math 23 24 math divided 24 23</td>\n",
              "    </tr>\n",
              "    <tr>\n",
              "      <th>4</th>\n",
              "      <td>4</td>\n",
              "      <td>9</td>\n",
              "      <td>10</td>\n",
              "      <td>Which one dissolve in water quikly sugar, salt...</td>\n",
              "      <td>Which fish would survive in salt water?</td>\n",
              "      <td>0</td>\n",
              "      <td>which one dissolve in water quikly sugar salt ...</td>\n",
              "      <td>which fish would survive in salt water</td>\n",
              "      <td>one dissolve water quikly sugar salt methane c...</td>\n",
              "      <td>fish would survive salt water</td>\n",
              "      <td>one dissolve water quikly sugar salt methane c...</td>\n",
              "      <td>fish would survive salt water</td>\n",
              "    </tr>\n",
              "    <tr>\n",
              "      <th>...</th>\n",
              "      <td>...</td>\n",
              "      <td>...</td>\n",
              "      <td>...</td>\n",
              "      <td>...</td>\n",
              "      <td>...</td>\n",
              "      <td>...</td>\n",
              "      <td>...</td>\n",
              "      <td>...</td>\n",
              "      <td>...</td>\n",
              "      <td>...</td>\n",
              "      <td>...</td>\n",
              "      <td>...</td>\n",
              "    </tr>\n",
              "    <tr>\n",
              "      <th>800164</th>\n",
              "      <td>800167</td>\n",
              "      <td>537487</td>\n",
              "      <td>145473</td>\n",
              "      <td>What does that mean if a girl calls you crazy?</td>\n",
              "      <td>If a girl says \"you are crazy\", what does it m...</td>\n",
              "      <td>1</td>\n",
              "      <td>what does that mean if a girl calls you crazy</td>\n",
              "      <td>if a girl says you are crazy what does it mean</td>\n",
              "      <td>mean girl call crazy</td>\n",
              "      <td>girl say crazy mean</td>\n",
              "      <td>mean girl calls crazy</td>\n",
              "      <td>girl says crazy mean</td>\n",
              "    </tr>\n",
              "    <tr>\n",
              "      <th>800165</th>\n",
              "      <td>800168</td>\n",
              "      <td>537580</td>\n",
              "      <td>67133</td>\n",
              "      <td>How do I determine if I am bisexual or lesbian?</td>\n",
              "      <td>Am I bisexual, lesbian or straight?</td>\n",
              "      <td>1</td>\n",
              "      <td>how do i determine if i am bisexual or lesbian</td>\n",
              "      <td>am i bisexual lesbian or straight</td>\n",
              "      <td>determine bisexual lesbian</td>\n",
              "      <td>bisexual lesbian straight</td>\n",
              "      <td>determine bisexual lesbian</td>\n",
              "      <td>bisexual lesbian straight</td>\n",
              "    </tr>\n",
              "    <tr>\n",
              "      <th>800166</th>\n",
              "      <td>800169</td>\n",
              "      <td>537580</td>\n",
              "      <td>168082</td>\n",
              "      <td>How do I determine if I am bisexual or lesbian?</td>\n",
              "      <td>How do I know if I am bisexual, lesbian or str...</td>\n",
              "      <td>1</td>\n",
              "      <td>how do i determine if i am bisexual or lesbian</td>\n",
              "      <td>how do i know if i am bisexual lesbian or stra...</td>\n",
              "      <td>determine bisexual lesbian</td>\n",
              "      <td>know bisexual lesbian straight</td>\n",
              "      <td>determine bisexual lesbian</td>\n",
              "      <td>know bisexual lesbian straight</td>\n",
              "    </tr>\n",
              "    <tr>\n",
              "      <th>800167</th>\n",
              "      <td>800170</td>\n",
              "      <td>537762</td>\n",
              "      <td>132589</td>\n",
              "      <td>What is your favorite vodka drink and why?</td>\n",
              "      <td>What is your favourite vodka?</td>\n",
              "      <td>1</td>\n",
              "      <td>what is your favorite vodka drink and why</td>\n",
              "      <td>what is your favourite vodka</td>\n",
              "      <td>favorite vodka drink</td>\n",
              "      <td>favourite vodka</td>\n",
              "      <td>favorite vodka drink</td>\n",
              "      <td>favourite vodka</td>\n",
              "    </tr>\n",
              "    <tr>\n",
              "      <th>800168</th>\n",
              "      <td>800171</td>\n",
              "      <td>537894</td>\n",
              "      <td>187745</td>\n",
              "      <td>Among Bollywood stars, which actor or actress ...</td>\n",
              "      <td>Who are the over actors of Bollywood?</td>\n",
              "      <td>1</td>\n",
              "      <td>among bollywood stars which actor or actress d...</td>\n",
              "      <td>who are the over actors of bollywood</td>\n",
              "      <td>among bollywood star actor actress much act</td>\n",
              "      <td>actor bollywood</td>\n",
              "      <td>among bollywood stars actor actress much acting</td>\n",
              "      <td>actors bollywood</td>\n",
              "    </tr>\n",
              "  </tbody>\n",
              "</table>\n",
              "<p>800169 rows × 12 columns</p>\n",
              "</div>"
            ],
            "text/plain": [
              "            id    qid1    qid2  \\\n",
              "0            0       1       2   \n",
              "1            1       3       4   \n",
              "2            2       5       6   \n",
              "3            3       7       8   \n",
              "4            4       9      10   \n",
              "...        ...     ...     ...   \n",
              "800164  800167  537487  145473   \n",
              "800165  800168  537580   67133   \n",
              "800166  800169  537580  168082   \n",
              "800167  800170  537762  132589   \n",
              "800168  800171  537894  187745   \n",
              "\n",
              "                                                question1  \\\n",
              "0       What is the step by step guide to invest in sh...   \n",
              "1       What is the story of Kohinoor (Koh-i-Noor) Dia...   \n",
              "2       How can I increase the speed of my internet co...   \n",
              "3       Why am I mentally very lonely? How can I solve...   \n",
              "4       Which one dissolve in water quikly sugar, salt...   \n",
              "...                                                   ...   \n",
              "800164     What does that mean if a girl calls you crazy?   \n",
              "800165    How do I determine if I am bisexual or lesbian?   \n",
              "800166    How do I determine if I am bisexual or lesbian?   \n",
              "800167         What is your favorite vodka drink and why?   \n",
              "800168  Among Bollywood stars, which actor or actress ...   \n",
              "\n",
              "                                                question2  is_duplicate  \\\n",
              "0       What is the step by step guide to invest in sh...             0   \n",
              "1       What would happen if the Indian government sto...             0   \n",
              "2       How can Internet speed be increased by hacking...             0   \n",
              "3       Find the remainder when [math]23^{24}[/math] i...             0   \n",
              "4                 Which fish would survive in salt water?             0   \n",
              "...                                                   ...           ...   \n",
              "800164  If a girl says \"you are crazy\", what does it m...             1   \n",
              "800165                Am I bisexual, lesbian or straight?             1   \n",
              "800166  How do I know if I am bisexual, lesbian or str...             1   \n",
              "800167                      What is your favourite vodka?             1   \n",
              "800168              Who are the over actors of Bollywood?             1   \n",
              "\n",
              "                                        question1_cleaned  \\\n",
              "0       what is the step by step guide to invest in sh...   \n",
              "1       what is the story of kohinoor koh i noor diamond    \n",
              "2       how can i increase the speed of my internet co...   \n",
              "3       why am i mentally very lonely how can i solve it    \n",
              "4       which one dissolve in water quikly sugar salt ...   \n",
              "...                                                   ...   \n",
              "800164     what does that mean if a girl calls you crazy    \n",
              "800165    how do i determine if i am bisexual or lesbian    \n",
              "800166    how do i determine if i am bisexual or lesbian    \n",
              "800167         what is your favorite vodka drink and why    \n",
              "800168  among bollywood stars which actor or actress d...   \n",
              "\n",
              "                                        question2_cleaned  \\\n",
              "0       what is the step by step guide to invest in sh...   \n",
              "1       what would happen if the indian government sto...   \n",
              "2       how can internet speed be increased by hacking...   \n",
              "3       find the remainder when math 23 24 math is div...   \n",
              "4                 which fish would survive in salt water    \n",
              "...                                                   ...   \n",
              "800164    if a girl says you are crazy what does it mean    \n",
              "800165                 am i bisexual lesbian or straight    \n",
              "800166  how do i know if i am bisexual lesbian or stra...   \n",
              "800167                      what is your favourite vodka    \n",
              "800168              who are the over actors of bollywood    \n",
              "\n",
              "                            question1_stopwords_lemmatize  \\\n",
              "0               step step guide invest share market india   \n",
              "1                         story kohinoor koh noor diamond   \n",
              "2              increase speed internet connection use vpn   \n",
              "3                                   mentally lonely solve   \n",
              "4       one dissolve water quikly sugar salt methane c...   \n",
              "...                                                   ...   \n",
              "800164                               mean girl call crazy   \n",
              "800165                         determine bisexual lesbian   \n",
              "800166                         determine bisexual lesbian   \n",
              "800167                               favorite vodka drink   \n",
              "800168        among bollywood star actor actress much act   \n",
              "\n",
              "                            question2_stopwords_lemmatize  \\\n",
              "0                     step step guide invest share market   \n",
              "1       would happen indian government stole kohinoor ...   \n",
              "2                        internet speed increase hack dns   \n",
              "3             find remainder math 23 24 math divide 24 23   \n",
              "4                           fish would survive salt water   \n",
              "...                                                   ...   \n",
              "800164                                girl say crazy mean   \n",
              "800165                          bisexual lesbian straight   \n",
              "800166                     know bisexual lesbian straight   \n",
              "800167                                    favourite vodka   \n",
              "800168                                    actor bollywood   \n",
              "\n",
              "                                      question1_stopwords  \\\n",
              "0               step step guide invest share market india   \n",
              "1                         story kohinoor koh noor diamond   \n",
              "2            increase speed internet connection using vpn   \n",
              "3                                   mentally lonely solve   \n",
              "4       one dissolve water quikly sugar salt methane c...   \n",
              "...                                                   ...   \n",
              "800164                              mean girl calls crazy   \n",
              "800165                         determine bisexual lesbian   \n",
              "800166                         determine bisexual lesbian   \n",
              "800167                               favorite vodka drink   \n",
              "800168    among bollywood stars actor actress much acting   \n",
              "\n",
              "                                      question2_stopwords  \n",
              "0                     step step guide invest share market  \n",
              "1       would happen indian government stole kohinoor ...  \n",
              "2                    internet speed increased hacking dns  \n",
              "3            find remainder math 23 24 math divided 24 23  \n",
              "4                           fish would survive salt water  \n",
              "...                                                   ...  \n",
              "800164                               girl says crazy mean  \n",
              "800165                          bisexual lesbian straight  \n",
              "800166                     know bisexual lesbian straight  \n",
              "800167                                    favourite vodka  \n",
              "800168                                   actors bollywood  \n",
              "\n",
              "[800169 rows x 12 columns]"
            ]
          },
          "execution_count": 30,
          "metadata": {},
          "output_type": "execute_result"
        }
      ]
    },
    {
      "cell_type": "code",
      "metadata": {
        "colab": {
          "base_uri": "https://localhost:8080/",
          "height": 49
        },
        "id": "AaUu7VWUcKgl",
        "outputId": "7a938192-5a28-4561-8262-b4f839f5ecd7"
      },
      "source": [
        "train_df[train_df.isnull().any(axis=1)]"
      ],
      "execution_count": null,
      "outputs": [
        {
          "data": {
            "text/html": [
              "<div>\n",
              "<style scoped>\n",
              "    .dataframe tbody tr th:only-of-type {\n",
              "        vertical-align: middle;\n",
              "    }\n",
              "\n",
              "    .dataframe tbody tr th {\n",
              "        vertical-align: top;\n",
              "    }\n",
              "\n",
              "    .dataframe thead th {\n",
              "        text-align: right;\n",
              "    }\n",
              "</style>\n",
              "<table border=\"1\" class=\"dataframe\">\n",
              "  <thead>\n",
              "    <tr style=\"text-align: right;\">\n",
              "      <th></th>\n",
              "      <th>id</th>\n",
              "      <th>qid1</th>\n",
              "      <th>qid2</th>\n",
              "      <th>question1</th>\n",
              "      <th>question2</th>\n",
              "      <th>is_duplicate</th>\n",
              "    </tr>\n",
              "  </thead>\n",
              "  <tbody>\n",
              "  </tbody>\n",
              "</table>\n",
              "</div>"
            ],
            "text/plain": [
              "Empty DataFrame\n",
              "Columns: [id, qid1, qid2, question1, question2, is_duplicate]\n",
              "Index: []"
            ]
          },
          "execution_count": 31,
          "metadata": {},
          "output_type": "execute_result"
        }
      ]
    },
    {
      "cell_type": "code",
      "metadata": {
        "colab": {
          "base_uri": "https://localhost:8080/"
        },
        "id": "2rlD6cbATgn6",
        "outputId": "2be987a5-1819-4434-d062-0d78034c4d6a"
      },
      "source": [
        "print(full_train_df[0:100][['question1', 'question1_cleaned', 'question1_stopwords', 'question1_stopwords_lemmatize']])\n",
        "print(full_train_df[0:100][['question2', 'question2_cleaned', 'question2_stopwords', 'question2_stopwords_lemmatize']])"
      ],
      "execution_count": null,
      "outputs": [
        {
          "name": "stdout",
          "output_type": "stream",
          "text": [
            "                                            question1  \\\n",
            "0   What is the step by step guide to invest in sh...   \n",
            "1   What is the story of Kohinoor (Koh-i-Noor) Dia...   \n",
            "2   How can I increase the speed of my internet co...   \n",
            "3   Why am I mentally very lonely? How can I solve...   \n",
            "4   Which one dissolve in water quikly sugar, salt...   \n",
            "..                                                ...   \n",
            "95                         How does 3D printing work?   \n",
            "96  What was it like to attend Caltech with Jeremy...   \n",
            "97                    Why did harry become a horcrux?   \n",
            "98  What are the best associate product manager (A...   \n",
            "99  Why is the number for Skype at 1-855-425-3768 ...   \n",
            "\n",
            "                                    question1_cleaned  \\\n",
            "0   what is the step by step guide to invest in sh...   \n",
            "1   what is the story of kohinoor koh i noor diamond    \n",
            "2   how can i increase the speed of my internet co...   \n",
            "3   why am i mentally very lonely how can i solve it    \n",
            "4   which one dissolve in water quikly sugar salt ...   \n",
            "..                                                ...   \n",
            "95                         how does 3d printing work    \n",
            "96  what was it like to attend caltech with jeremy...   \n",
            "97                    why did harry become a horcrux    \n",
            "98  what are the best associate product manager ap...   \n",
            "99  why is the number for skype at 1 855 425 3768 ...   \n",
            "\n",
            "                                  question1_stopwords  \\\n",
            "0           step step guide invest share market india   \n",
            "1                     story kohinoor koh noor diamond   \n",
            "2        increase speed internet connection using vpn   \n",
            "3                               mentally lonely solve   \n",
            "4   one dissolve water quikly sugar salt methane c...   \n",
            "..                                                ...   \n",
            "95                                   3d printing work   \n",
            "96                like attend caltech jeremy ehrhardt   \n",
            "97                               harry become horcrux   \n",
            "98  best associate product manager apm programs so...   \n",
            "99            number skype 1 855 425 3768 always busy   \n",
            "\n",
            "                        question1_stopwords_lemmatize  \n",
            "0           step step guide invest share market india  \n",
            "1                     story kohinoor koh noor diamond  \n",
            "2          increase speed internet connection use vpn  \n",
            "3                               mentally lonely solve  \n",
            "4   one dissolve water quikly sugar salt methane c...  \n",
            "..                                                ...  \n",
            "95                                   3d printing work  \n",
            "96                like attend caltech jeremy ehrhardt  \n",
            "97                               harry become horcrux  \n",
            "98  best associate product manager apm program som...  \n",
            "99            number skype 1 855 425 3768 always busy  \n",
            "\n",
            "[100 rows x 4 columns]\n",
            "                                            question2  \\\n",
            "0   What is the step by step guide to invest in sh...   \n",
            "1   What would happen if the Indian government sto...   \n",
            "2   How can Internet speed be increased by hacking...   \n",
            "3   Find the remainder when [math]23^{24}[/math] i...   \n",
            "4             Which fish would survive in salt water?   \n",
            "..                                                ...   \n",
            "95                           How do 3D printing work?   \n",
            "96   Who are some notable folks who attended Caltech?   \n",
            "97                                 What is a Horcrux?   \n",
            "98  What are the general requirement to become a P...   \n",
            "99  How could I get Skype to work on an android 4....   \n",
            "\n",
            "                                    question2_cleaned  \\\n",
            "0   what is the step by step guide to invest in sh...   \n",
            "1   what would happen if the indian government sto...   \n",
            "2   how can internet speed be increased by hacking...   \n",
            "3   find the remainder when math 23 24 math is div...   \n",
            "4             which fish would survive in salt water    \n",
            "..                                                ...   \n",
            "95                           how do 3d printing work    \n",
            "96   who are some notable folks who attended caltech    \n",
            "97                                 what is a horcrux    \n",
            "98  what are the general requirement to become a p...   \n",
            "99  how could i get skype to work on an android 4 ...   \n",
            "\n",
            "                                  question2_stopwords  \\\n",
            "0                 step step guide invest share market   \n",
            "1   would happen indian government stole kohinoor ...   \n",
            "2                internet speed increased hacking dns   \n",
            "3        find remainder math 23 24 math divided 24 23   \n",
            "4                       fish would survive salt water   \n",
            "..                                                ...   \n",
            "95                                   3d printing work   \n",
            "96                     notable folks attended caltech   \n",
            "97                                            horcrux   \n",
            "98  general requirement become product manager pro...   \n",
            "99           could get skype work android 4 1 1 phone   \n",
            "\n",
            "                        question2_stopwords_lemmatize  \n",
            "0                 step step guide invest share market  \n",
            "1   would happen indian government stole kohinoor ...  \n",
            "2                    internet speed increase hack dns  \n",
            "3         find remainder math 23 24 math divide 24 23  \n",
            "4                       fish would survive salt water  \n",
            "..                                                ...  \n",
            "95                                   3d printing work  \n",
            "96                        notable folk attend caltech  \n",
            "97                                            horcrux  \n",
            "98  general requirement become product manager pro...  \n",
            "99           could get skype work android 4 1 1 phone  \n",
            "\n",
            "[100 rows x 4 columns]\n"
          ]
        }
      ]
    },
    {
      "cell_type": "code",
      "metadata": {
        "id": "rZ_kurJbf9Aj"
      },
      "source": [
        "full_train_df.to_csv(\"fulltrain_cleaned.csv\",index=False)"
      ],
      "execution_count": null,
      "outputs": []
    },
    {
      "cell_type": "markdown",
      "metadata": {
        "id": "MrHIQrSy_6XL"
      },
      "source": [
        "# Some Visualizations"
      ]
    },
    {
      "cell_type": "code",
      "metadata": {
        "colab": {
          "base_uri": "https://localhost:8080/"
        },
        "id": "OhPVABZy_8vF",
        "outputId": "8c618fd6-ccf6-490a-dcbf-532d697fe18c"
      },
      "source": [
        "clean_sentence_list = full_train_df['question1_cleaned'].tolist()\n",
        "clean_sentence_list = clean_sentence_list + full_train_df['question2_cleaned'].tolist()\n",
        "\n",
        "print(len(clean_sentence_list))\n",
        "print(clean_sentence_list[0])"
      ],
      "execution_count": null,
      "outputs": [
        {
          "name": "stdout",
          "output_type": "stream",
          "text": [
            "1600338\n",
            "what is the step by step guide to invest in share market in india \n"
          ]
        }
      ]
    },
    {
      "cell_type": "code",
      "metadata": {
        "colab": {
          "base_uri": "https://localhost:8080/",
          "height": 621
        },
        "id": "YWo53dMhAeRR",
        "outputId": "44f9a1c5-14f0-4d1b-eb77-26b25584b243"
      },
      "source": [
        "word_count = []\n",
        "for sentence in clean_sentence_list:\n",
        "    if isinstance(sentence, float):\n",
        "        print(sentence)\n",
        "    word_count.append(len(sentence))\n",
        "\n",
        "plt.figure(figsize=(20,10))\n",
        "plt.hist(word_count, bins=1000)\n",
        "plt.gca().set(title='Count Word Histogram', ylabel='Number of Sentences', xlabel='Word Count')\n",
        "plt.show()"
      ],
      "execution_count": null,
      "outputs": [
        {
          "data": {
            "image/png": "[encoded data removed]",
            "text/plain": [
              "<Figure size 1440x720 with 1 Axes>"
            ]
          },
          "metadata": {
            "needs_background": "light"
          },
          "output_type": "display_data"
        }
      ]
    },
    {
      "cell_type": "code",
      "metadata": {
        "colab": {
          "base_uri": "https://localhost:8080/",
          "height": 623
        },
        "id": "ew2vIKuUBMX6",
        "outputId": "81bb0ae4-d60b-453a-f1c8-157896903060"
      },
      "source": [
        "from sklearn.feature_extraction.text import CountVectorizer\n",
        "\n",
        "def get_top_n_words(corpus, n=None):\n",
        "    vec = CountVectorizer(stop_words = 'english').fit(corpus)\n",
        "    bag_of_words = vec.transform(corpus)\n",
        "    sum_words = bag_of_words.sum(axis=0) \n",
        "    words_freq = [(word, sum_words[0, idx]) for word, idx in vec.vocabulary_.items()]\n",
        "    words_freq =sorted(words_freq, key = lambda x: x[1], reverse=True)\n",
        "    return words_freq[:n]\n",
        "\n",
        "common_words = get_top_n_words(clean_sentence_list, 30)\n",
        "df2 = pd.DataFrame(common_words, columns = ['ReviewText' , 'count'])\n",
        "df2.plot.bar(x='ReviewText', y='count', rot=0, figsize=(20,10))\n"
      ],
      "execution_count": null,
      "outputs": [
        {
          "data": {
            "text/plain": [
              "<AxesSubplot:xlabel='ReviewText'>"
            ]
          },
          "execution_count": 36,
          "metadata": {},
          "output_type": "execute_result"
        },
        {
          "data": {
            "image/png": "[encoded data removed]",
            "text/plain": [
              "<Figure size 1440x720 with 1 Axes>"
            ]
          },
          "metadata": {
            "needs_background": "light"
          },
          "output_type": "display_data"
        }
      ]
    },
    {
      "cell_type": "code",
      "metadata": {
        "id": "chUXZB7WKk5d"
      },
      "source": [
        "sentence_list = full_train_df['question1_stopwords_lemmatize'].tolist()\n",
        "sentence_list = sentence_list + full_train_df['question2_stopwords_lemmatize'].tolist()"
      ],
      "execution_count": null,
      "outputs": []
    },
    {
      "cell_type": "code",
      "metadata": {
        "colab": {
          "base_uri": "https://localhost:8080/",
          "height": 638
        },
        "id": "kJx0vI9OKtta",
        "outputId": "aa67d7c6-f3fd-4926-9b48-e8721bd1eb59"
      },
      "source": [
        "word_count = []\n",
        "for sentence in sentence_list:\n",
        "    sentence = str(sentence)\n",
        "    word_count.append(len(sentence))\n",
        "\n",
        "plt.clf()\n",
        "plt.figure(figsize=(20,10))\n",
        "plt.hist(word_count, bins=1000)\n",
        "plt.gca().set(title='Count Word Histogram', ylabel='Number of Sentences', xlabel='Word Count')\n",
        "plt.show()"
      ],
      "execution_count": null,
      "outputs": [
        {
          "data": {
            "text/plain": [
              "<Figure size 432x288 with 0 Axes>"
            ]
          },
          "metadata": {},
          "output_type": "display_data"
        },
        {
          "data": {
            "image/png": "[encoded data removed]",
            "text/plain": [
              "<Figure size 1440x720 with 1 Axes>"
            ]
          },
          "metadata": {
            "needs_background": "light"
          },
          "output_type": "display_data"
        }
      ]
    },
    {
      "cell_type": "code",
      "metadata": {
        "colab": {
          "base_uri": "https://localhost:8080/",
          "height": 623
        },
        "id": "9JLIV5_sNXHa",
        "outputId": "9addaa6a-fa25-46c6-b037-19752916d156"
      },
      "source": [
        "from sklearn.feature_extraction.text import CountVectorizer\n",
        "\n",
        "def get_top_n_words(corpus, n=None):\n",
        "    vec = CountVectorizer(stop_words = 'english').fit(corpus)\n",
        "    bag_of_words = vec.transform(corpus)\n",
        "    sum_words = bag_of_words.sum(axis=0) \n",
        "    words_freq = [(word, sum_words[0, idx]) for word, idx in vec.vocabulary_.items()]\n",
        "    words_freq =sorted(words_freq, key = lambda x: x[1], reverse=True)\n",
        "    return words_freq[:n]\n",
        "\n",
        "common_words = get_top_n_words(sentence_list, 30)\n",
        "df2 = pd.DataFrame(common_words, columns = ['ReviewText' , 'count'])\n",
        "df2.plot.bar(x='ReviewText', y='count', rot=0, figsize=(20,10))\n"
      ],
      "execution_count": null,
      "outputs": [
        {
          "data": {
            "text/plain": [
              "<AxesSubplot:xlabel='ReviewText'>"
            ]
          },
          "execution_count": 39,
          "metadata": {},
          "output_type": "execute_result"
        },
        {
          "data": {
            "image/png": "[encoded data removed]",
            "text/plain": [
              "<Figure size 1440x720 with 1 Axes>"
            ]
          },
          "metadata": {
            "needs_background": "light"
          },
          "output_type": "display_data"
        }
      ]
    },
    {
      "cell_type": "code",
      "metadata": {
        "id": "iGh-SN2cWQ9z"
      },
      "source": [
        ""
      ],
      "execution_count": null,
      "outputs": []
    },
    {
      "cell_type": "code",
      "metadata": {
        "id": "1p1umogkWQ9z",
        "outputId": "f04d539b-d51e-40e3-f3ba-beac8cab6863"
      },
      "source": [
        "pd.read_csv(\"fulltrain_cleaned.csv\")[['question1', 'question2', 'is_duplicate',\n",
        "       'question1_cleaned', 'question2_cleaned',\n",
        "       'question1_stopwords_lemmatize', 'question2_stopwords_lemmatize',\n",
        "       'question1_stopwords', 'question2_stopwords']]"
      ],
      "execution_count": null,
      "outputs": [
        {
          "data": {
            "text/html": [
              "<div>\n",
              "<style scoped>\n",
              "    .dataframe tbody tr th:only-of-type {\n",
              "        vertical-align: middle;\n",
              "    }\n",
              "\n",
              "    .dataframe tbody tr th {\n",
              "        vertical-align: top;\n",
              "    }\n",
              "\n",
              "    .dataframe thead th {\n",
              "        text-align: right;\n",
              "    }\n",
              "</style>\n",
              "<table border=\"1\" class=\"dataframe\">\n",
              "  <thead>\n",
              "    <tr style=\"text-align: right;\">\n",
              "      <th></th>\n",
              "      <th>question1</th>\n",
              "      <th>question2</th>\n",
              "      <th>is_duplicate</th>\n",
              "      <th>question1_cleaned</th>\n",
              "      <th>question2_cleaned</th>\n",
              "      <th>question1_stopwords_lemmatize</th>\n",
              "      <th>question2_stopwords_lemmatize</th>\n",
              "      <th>question1_stopwords</th>\n",
              "      <th>question2_stopwords</th>\n",
              "    </tr>\n",
              "  </thead>\n",
              "  <tbody>\n",
              "    <tr>\n",
              "      <th>0</th>\n",
              "      <td>What is the step by step guide to invest in sh...</td>\n",
              "      <td>What is the step by step guide to invest in sh...</td>\n",
              "      <td>0</td>\n",
              "      <td>what is the step by step guide to invest in sh...</td>\n",
              "      <td>what is the step by step guide to invest in sh...</td>\n",
              "      <td>step step guide invest share market india</td>\n",
              "      <td>step step guide invest share market</td>\n",
              "      <td>step step guide invest share market india</td>\n",
              "      <td>step step guide invest share market</td>\n",
              "    </tr>\n",
              "    <tr>\n",
              "      <th>1</th>\n",
              "      <td>What is the story of Kohinoor (Koh-i-Noor) Dia...</td>\n",
              "      <td>What would happen if the Indian government sto...</td>\n",
              "      <td>0</td>\n",
              "      <td>what is the story of kohinoor koh i noor diamond</td>\n",
              "      <td>what would happen if the indian government sto...</td>\n",
              "      <td>story kohinoor koh noor diamond</td>\n",
              "      <td>would happen indian government stole kohinoor ...</td>\n",
              "      <td>story kohinoor koh noor diamond</td>\n",
              "      <td>would happen indian government stole kohinoor ...</td>\n",
              "    </tr>\n",
              "    <tr>\n",
              "      <th>2</th>\n",
              "      <td>How can I increase the speed of my internet co...</td>\n",
              "      <td>How can Internet speed be increased by hacking...</td>\n",
              "      <td>0</td>\n",
              "      <td>how can i increase the speed of my internet co...</td>\n",
              "      <td>how can internet speed be increased by hacking...</td>\n",
              "      <td>increase speed internet connection use vpn</td>\n",
              "      <td>internet speed increase hack dns</td>\n",
              "      <td>increase speed internet connection using vpn</td>\n",
              "      <td>internet speed increased hacking dns</td>\n",
              "    </tr>\n",
              "    <tr>\n",
              "      <th>3</th>\n",
              "      <td>Why am I mentally very lonely? How can I solve...</td>\n",
              "      <td>Find the remainder when [math]23^{24}[/math] i...</td>\n",
              "      <td>0</td>\n",
              "      <td>why am i mentally very lonely how can i solve it</td>\n",
              "      <td>find the remainder when math 23 24 math is div...</td>\n",
              "      <td>mentally lonely solve</td>\n",
              "      <td>find remainder math 23 24 math divide 24 23</td>\n",
              "      <td>mentally lonely solve</td>\n",
              "      <td>find remainder math 23 24 math divided 24 23</td>\n",
              "    </tr>\n",
              "    <tr>\n",
              "      <th>4</th>\n",
              "      <td>Which one dissolve in water quikly sugar, salt...</td>\n",
              "      <td>Which fish would survive in salt water?</td>\n",
              "      <td>0</td>\n",
              "      <td>which one dissolve in water quikly sugar salt ...</td>\n",
              "      <td>which fish would survive in salt water</td>\n",
              "      <td>one dissolve water quikly sugar salt methane c...</td>\n",
              "      <td>fish would survive salt water</td>\n",
              "      <td>one dissolve water quikly sugar salt methane c...</td>\n",
              "      <td>fish would survive salt water</td>\n",
              "    </tr>\n",
              "    <tr>\n",
              "      <th>...</th>\n",
              "      <td>...</td>\n",
              "      <td>...</td>\n",
              "      <td>...</td>\n",
              "      <td>...</td>\n",
              "      <td>...</td>\n",
              "      <td>...</td>\n",
              "      <td>...</td>\n",
              "      <td>...</td>\n",
              "      <td>...</td>\n",
              "    </tr>\n",
              "    <tr>\n",
              "      <th>800164</th>\n",
              "      <td>What does that mean if a girl calls you crazy?</td>\n",
              "      <td>If a girl says \"you are crazy\", what does it m...</td>\n",
              "      <td>1</td>\n",
              "      <td>what does that mean if a girl calls you crazy</td>\n",
              "      <td>if a girl says you are crazy what does it mean</td>\n",
              "      <td>mean girl call crazy</td>\n",
              "      <td>girl say crazy mean</td>\n",
              "      <td>mean girl calls crazy</td>\n",
              "      <td>girl says crazy mean</td>\n",
              "    </tr>\n",
              "    <tr>\n",
              "      <th>800165</th>\n",
              "      <td>How do I determine if I am bisexual or lesbian?</td>\n",
              "      <td>Am I bisexual, lesbian or straight?</td>\n",
              "      <td>1</td>\n",
              "      <td>how do i determine if i am bisexual or lesbian</td>\n",
              "      <td>am i bisexual lesbian or straight</td>\n",
              "      <td>determine bisexual lesbian</td>\n",
              "      <td>bisexual lesbian straight</td>\n",
              "      <td>determine bisexual lesbian</td>\n",
              "      <td>bisexual lesbian straight</td>\n",
              "    </tr>\n",
              "    <tr>\n",
              "      <th>800166</th>\n",
              "      <td>How do I determine if I am bisexual or lesbian?</td>\n",
              "      <td>How do I know if I am bisexual, lesbian or str...</td>\n",
              "      <td>1</td>\n",
              "      <td>how do i determine if i am bisexual or lesbian</td>\n",
              "      <td>how do i know if i am bisexual lesbian or stra...</td>\n",
              "      <td>determine bisexual lesbian</td>\n",
              "      <td>know bisexual lesbian straight</td>\n",
              "      <td>determine bisexual lesbian</td>\n",
              "      <td>know bisexual lesbian straight</td>\n",
              "    </tr>\n",
              "    <tr>\n",
              "      <th>800167</th>\n",
              "      <td>What is your favorite vodka drink and why?</td>\n",
              "      <td>What is your favourite vodka?</td>\n",
              "      <td>1</td>\n",
              "      <td>what is your favorite vodka drink and why</td>\n",
              "      <td>what is your favourite vodka</td>\n",
              "      <td>favorite vodka drink</td>\n",
              "      <td>favourite vodka</td>\n",
              "      <td>favorite vodka drink</td>\n",
              "      <td>favourite vodka</td>\n",
              "    </tr>\n",
              "    <tr>\n",
              "      <th>800168</th>\n",
              "      <td>Among Bollywood stars, which actor or actress ...</td>\n",
              "      <td>Who are the over actors of Bollywood?</td>\n",
              "      <td>1</td>\n",
              "      <td>among bollywood stars which actor or actress d...</td>\n",
              "      <td>who are the over actors of bollywood</td>\n",
              "      <td>among bollywood star actor actress much act</td>\n",
              "      <td>actor bollywood</td>\n",
              "      <td>among bollywood stars actor actress much acting</td>\n",
              "      <td>actors bollywood</td>\n",
              "    </tr>\n",
              "  </tbody>\n",
              "</table>\n",
              "<p>800169 rows × 9 columns</p>\n",
              "</div>"
            ],
            "text/plain": [
              "                                                question1  \\\n",
              "0       What is the step by step guide to invest in sh...   \n",
              "1       What is the story of Kohinoor (Koh-i-Noor) Dia...   \n",
              "2       How can I increase the speed of my internet co...   \n",
              "3       Why am I mentally very lonely? How can I solve...   \n",
              "4       Which one dissolve in water quikly sugar, salt...   \n",
              "...                                                   ...   \n",
              "800164     What does that mean if a girl calls you crazy?   \n",
              "800165    How do I determine if I am bisexual or lesbian?   \n",
              "800166    How do I determine if I am bisexual or lesbian?   \n",
              "800167         What is your favorite vodka drink and why?   \n",
              "800168  Among Bollywood stars, which actor or actress ...   \n",
              "\n",
              "                                                question2  is_duplicate  \\\n",
              "0       What is the step by step guide to invest in sh...             0   \n",
              "1       What would happen if the Indian government sto...             0   \n",
              "2       How can Internet speed be increased by hacking...             0   \n",
              "3       Find the remainder when [math]23^{24}[/math] i...             0   \n",
              "4                 Which fish would survive in salt water?             0   \n",
              "...                                                   ...           ...   \n",
              "800164  If a girl says \"you are crazy\", what does it m...             1   \n",
              "800165                Am I bisexual, lesbian or straight?             1   \n",
              "800166  How do I know if I am bisexual, lesbian or str...             1   \n",
              "800167                      What is your favourite vodka?             1   \n",
              "800168              Who are the over actors of Bollywood?             1   \n",
              "\n",
              "                                        question1_cleaned  \\\n",
              "0       what is the step by step guide to invest in sh...   \n",
              "1       what is the story of kohinoor koh i noor diamond    \n",
              "2       how can i increase the speed of my internet co...   \n",
              "3       why am i mentally very lonely how can i solve it    \n",
              "4       which one dissolve in water quikly sugar salt ...   \n",
              "...                                                   ...   \n",
              "800164     what does that mean if a girl calls you crazy    \n",
              "800165    how do i determine if i am bisexual or lesbian    \n",
              "800166    how do i determine if i am bisexual or lesbian    \n",
              "800167         what is your favorite vodka drink and why    \n",
              "800168  among bollywood stars which actor or actress d...   \n",
              "\n",
              "                                        question2_cleaned  \\\n",
              "0       what is the step by step guide to invest in sh...   \n",
              "1       what would happen if the indian government sto...   \n",
              "2       how can internet speed be increased by hacking...   \n",
              "3       find the remainder when math 23 24 math is div...   \n",
              "4                 which fish would survive in salt water    \n",
              "...                                                   ...   \n",
              "800164    if a girl says you are crazy what does it mean    \n",
              "800165                 am i bisexual lesbian or straight    \n",
              "800166  how do i know if i am bisexual lesbian or stra...   \n",
              "800167                      what is your favourite vodka    \n",
              "800168              who are the over actors of bollywood    \n",
              "\n",
              "                            question1_stopwords_lemmatize  \\\n",
              "0               step step guide invest share market india   \n",
              "1                         story kohinoor koh noor diamond   \n",
              "2              increase speed internet connection use vpn   \n",
              "3                                   mentally lonely solve   \n",
              "4       one dissolve water quikly sugar salt methane c...   \n",
              "...                                                   ...   \n",
              "800164                               mean girl call crazy   \n",
              "800165                         determine bisexual lesbian   \n",
              "800166                         determine bisexual lesbian   \n",
              "800167                               favorite vodka drink   \n",
              "800168        among bollywood star actor actress much act   \n",
              "\n",
              "                            question2_stopwords_lemmatize  \\\n",
              "0                     step step guide invest share market   \n",
              "1       would happen indian government stole kohinoor ...   \n",
              "2                        internet speed increase hack dns   \n",
              "3             find remainder math 23 24 math divide 24 23   \n",
              "4                           fish would survive salt water   \n",
              "...                                                   ...   \n",
              "800164                                girl say crazy mean   \n",
              "800165                          bisexual lesbian straight   \n",
              "800166                     know bisexual lesbian straight   \n",
              "800167                                    favourite vodka   \n",
              "800168                                    actor bollywood   \n",
              "\n",
              "                                      question1_stopwords  \\\n",
              "0               step step guide invest share market india   \n",
              "1                         story kohinoor koh noor diamond   \n",
              "2            increase speed internet connection using vpn   \n",
              "3                                   mentally lonely solve   \n",
              "4       one dissolve water quikly sugar salt methane c...   \n",
              "...                                                   ...   \n",
              "800164                              mean girl calls crazy   \n",
              "800165                         determine bisexual lesbian   \n",
              "800166                         determine bisexual lesbian   \n",
              "800167                               favorite vodka drink   \n",
              "800168    among bollywood stars actor actress much acting   \n",
              "\n",
              "                                      question2_stopwords  \n",
              "0                     step step guide invest share market  \n",
              "1       would happen indian government stole kohinoor ...  \n",
              "2                    internet speed increased hacking dns  \n",
              "3            find remainder math 23 24 math divided 24 23  \n",
              "4                           fish would survive salt water  \n",
              "...                                                   ...  \n",
              "800164                               girl says crazy mean  \n",
              "800165                          bisexual lesbian straight  \n",
              "800166                     know bisexual lesbian straight  \n",
              "800167                                    favourite vodka  \n",
              "800168                                   actors bollywood  \n",
              "\n",
              "[800169 rows x 9 columns]"
            ]
          },
          "execution_count": 43,
          "metadata": {},
          "output_type": "execute_result"
        }
      ]
    },
    {
      "cell_type": "code",
      "metadata": {
        "id": "dJvYpCefWQ9z"
      },
      "source": [
        ""
      ],
      "execution_count": null,
      "outputs": []
    }
  ]
}