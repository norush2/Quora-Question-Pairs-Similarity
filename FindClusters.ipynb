{
  "nbformat": 4,
  "nbformat_minor": 0,
  "metadata": {
    "colab": {
      "name": "FindClusters.ipynb",
      "provenance": [],
      "collapsed_sections": []
    },
    "kernelspec": {
      "name": "python3",
      "display_name": "Python 3"
    },
    "language_info": {
      "name": "python"
    }
  },
  "cells": [
    {
      "cell_type": "code",
      "metadata": {
        "colab": {
          "base_uri": "https://localhost:8080/"
        },
        "id": "HBsiNMdLte2l",
        "outputId": "82a3959e-fc70-4c6b-dde9-ac0fdeb3f27a"
      },
      "source": [
        "from google.colab import drive\n",
        "drive.mount('/content/gdrive/')\n",
        "\n",
        "import os\n",
        "os.chdir(\"/content/gdrive/MyDrive/QuoraQuestions\")\n",
        "!ls"
      ],
      "execution_count": null,
      "outputs": [
        {
          "output_type": "stream",
          "name": "stdout",
          "text": [
            "Mounted at /content/gdrive/\n",
            " CalculateCosineSimilarity.ipynb   modelA\n",
            " CleanData_Juliet.ipynb\t\t   modelA_last.h5\n",
            " cleaned_features.csv\t\t   modelB\n",
            " FindClusters.ipynb\t\t   modelB_last.h5\n",
            " fulltrain_cleaned.csv\t\t   modelC\n",
            " fulltrain.csv\t\t\t   modelC_last.h5\n",
            " glove.6B.50d.txt\t\t   modelD\n",
            " glove.twitter.27B.200d.txt\t   mytokenizer.pickle\n",
            "'Glove Vectors.ipynb'\t\t   sample_submission.csv\n",
            " LSTM_Model_Inference.ipynb\t   test.csv\n",
            " LSTM_training.ipynb\t\t   train.csv\n"
          ]
        }
      ]
    },
    {
      "cell_type": "code",
      "metadata": {
        "id": "UN74wsQft9eW"
      },
      "source": [
        "import numpy as np\n",
        "import matplotlib.pyplot as plt\n",
        "import pandas as pd\n",
        "import json\n",
        "%matplotlib inline"
      ],
      "execution_count": null,
      "outputs": []
    },
    {
      "cell_type": "code",
      "metadata": {
        "colab": {
          "base_uri": "https://localhost:8080/"
        },
        "id": "p3sAp73DtrTk",
        "outputId": "10a8aa38-b257-4af4-fc5a-1b7b3ec56f6a"
      },
      "source": [
        "train_df = pd.read_csv(\"/content/gdrive/MyDrive/QuoraQuestions/cleaned_features.csv\")\n",
        "train_df = train_df.dropna()\n",
        "\n",
        "train_df[\"qid1\"].astype('int64', copy=False)\n",
        "train_df[\"qid2\"].astype('int64', copy=False)\n",
        "train_df[\"question1_cleaned\"].astype('string', copy=False)\n",
        "train_df[\"question2_cleaned\"].astype('string', copy=False)\n",
        "train_df[\"is_duplicate\"].astype('int64', copy=False)\n",
        "\n",
        "print(\"total number of samples: \", len(train_df))\n",
        "print(\"number of negative samples: \" , len(train_df[train_df['is_duplicate'] == 0]))\n",
        "print(\"number of positive samples: \" , len(train_df[train_df['is_duplicate'] == 1]))\n",
        "\n",
        "print(train_df.head())\n",
        "print(train_df.columns)"
      ],
      "execution_count": null,
      "outputs": [
        {
          "output_type": "stream",
          "name": "stdout",
          "text": [
            "total number of samples:  509792\n",
            "number of negative samples:  254896\n",
            "number of positive samples:  254896\n",
            "   is_duplicate  qid1  qid2  ... Partial_Ratio Token_Sort_Ratio  Token_Set_Ratio\n",
            "0             0     1     2  ...           100               93              100\n",
            "1             0     3     4  ...            73               63               86\n",
            "2             0     5     6  ...            53               66               66\n",
            "3             0     7     8  ...            40               36               36\n",
            "4             0     9    10  ...            55               47               67\n",
            "\n",
            "[5 rows x 20 columns]\n",
            "Index(['is_duplicate', 'qid1', 'qid2', 'question1_cleaned',\n",
            "       'question2_cleaned', 'cosine_similarity', 'q1_word_count',\n",
            "       'q2_word_count', 'q1char_count', 'q2char_count', 'freq_qid1',\n",
            "       'freq_qid2', 'common_words_count', 'total_unique_num_words',\n",
            "       'tot_words', 'words_ratio', 'Simple_Ratio', 'Partial_Ratio',\n",
            "       'Token_Sort_Ratio', 'Token_Set_Ratio'],\n",
            "      dtype='object')\n"
          ]
        }
      ]
    },
    {
      "cell_type": "code",
      "metadata": {
        "colab": {
          "base_uri": "https://localhost:8080/"
        },
        "id": "Jjk8y73txMoP",
        "outputId": "dc2606d3-bca4-4417-cd81-a486012d37aa"
      },
      "source": [
        "id_to_sentence = {}\n",
        "for idx, sample in train_df.iterrows():\n",
        "    sample1_id = sample['qid1']\n",
        "    sample2_id = sample['qid2']\n",
        "\n",
        "    if sample1_id not in id_to_sentence.keys():\n",
        "        id_to_sentence[sample1_id] = sample['question1_cleaned']\n",
        "    \n",
        "    if sample2_id not in id_to_sentence.keys():\n",
        "        id_to_sentence[sample2_id] = sample['question2_cleaned']\n",
        "\n",
        "print(id_to_sentence[10])"
      ],
      "execution_count": null,
      "outputs": [
        {
          "output_type": "stream",
          "name": "stdout",
          "text": [
            "which fish would survive in salt water\n"
          ]
        }
      ]
    },
    {
      "cell_type": "code",
      "metadata": {
        "id": "fTSWcNw3yldh"
      },
      "source": [
        ""
      ],
      "execution_count": null,
      "outputs": []
    },
    {
      "cell_type": "code",
      "metadata": {
        "colab": {
          "base_uri": "https://localhost:8080/"
        },
        "id": "CUQpz9qnxc3Z",
        "outputId": "9dba02cc-d1b1-44ba-82b7-620074ce3462"
      },
      "source": [
        "\n",
        "\n",
        "def get_linking_dict(id_to_cluster, cluster_to_id, is_duplicate):\n",
        "  newest_cluster = 0\n",
        "  for idx, sample in train_df[train_df['is_duplicate'] == is_duplicate].iterrows():\n",
        "    sample1_id = sample['qid1']\n",
        "    sample2_id = sample['qid2']\n",
        "\n",
        "    empty_clusters = []\n",
        "\n",
        "    if sample1_id in id_to_cluster and sample2_id in id_to_cluster:\n",
        "      if id_to_cluster[sample1_id] != id_to_cluster[sample2_id]:\n",
        "        empty_clusters.append(id_to_cluster[sample2_id])\n",
        "        new_id = id_to_cluster[sample1_id]\n",
        "        remove_id = id_to_cluster[sample2_id]\n",
        "\n",
        "        for id_to_change in cluster_to_id[remove_id]:\n",
        "          id_to_cluster[id_to_change] = new_id\n",
        "        \n",
        "        cluster_to_id[new_id] = cluster_to_id[new_id] + cluster_to_id[remove_id]\n",
        "        cluster_to_id[remove_id] = []\n",
        "      else:\n",
        "        pass\n",
        "    elif sample1_id in id_to_cluster:\n",
        "      current_cluster = id_to_cluster[sample1_id]\n",
        "      id_to_cluster[sample2_id] = current_cluster\n",
        "      cluster_to_id[current_cluster].append(sample2_id)\n",
        "    elif sample2_id in id_to_cluster:\n",
        "      current_cluster = id_to_cluster[sample2_id]\n",
        "      id_to_cluster[sample1_id] = current_cluster\n",
        "      cluster_to_id[current_cluster].append(sample1_id)\n",
        "    else:\n",
        "      if empty_clusters:\n",
        "        popped = empty_clusters.pop()\n",
        "        id_to_cluster[sample1_id] = popped\n",
        "        id_to_cluster[sample2_id] = popped\n",
        "        cluster_to_id[popped] = [sample1_id, sample2_id]\n",
        "      else:\n",
        "        id_to_cluster[sample1_id] = newest_cluster\n",
        "        id_to_cluster[sample2_id] = newest_cluster\n",
        "        cluster_to_id[newest_cluster] = [sample1_id, sample2_id]\n",
        "        newest_cluster = newest_cluster + 1\n",
        "  print(empty_clusters)\n",
        "  return newest_cluster\n",
        "\n",
        "id_to_cluster_duplicate = {}\n",
        "cluster_to_id_duplicate = {}\n",
        "\n",
        "id_to_cluster_nonduplicate = {}\n",
        "cluster_to_id_nonduplicate = {}\n",
        "\n",
        "starting_cluster_number = get_linking_dict(id_to_cluster_duplicate, cluster_to_id_duplicate, 1)\n",
        "get_linking_dict(id_to_cluster_nonduplicate, cluster_to_id_nonduplicate, 0)"
      ],
      "execution_count": null,
      "outputs": [
        {
          "output_type": "stream",
          "name": "stdout",
          "text": [
            "[]\n",
            "[]\n"
          ]
        },
        {
          "output_type": "execute_result",
          "data": {
            "text/plain": [
              "173419"
            ]
          },
          "metadata": {},
          "execution_count": 5
        }
      ]
    },
    {
      "cell_type": "code",
      "metadata": {
        "id": "qjlGsHNy75na"
      },
      "source": [
        ""
      ],
      "execution_count": null,
      "outputs": []
    },
    {
      "cell_type": "code",
      "metadata": {
        "colab": {
          "base_uri": "https://localhost:8080/"
        },
        "id": "YFjPBbYv43A7",
        "outputId": "8adc884d-c108-41c2-d329-6ff1d49031ff"
      },
      "source": [
        "def find_top_k_cluster(cluster_to_id, k):\n",
        "  x = []\n",
        "  for cluster_key in cluster_to_id.keys():\n",
        "    length = len(cluster_to_id[cluster_key])\n",
        "    mytuple = (length, cluster_key)\n",
        "    x.append(mytuple)\n",
        "  x.sort(reverse=True)\n",
        "\n",
        "  for size, cluster_num in x[0:k]:\n",
        "    print(\"size:\", size, \"cluster_id:\", cluster_num)\n",
        "\n",
        "find_top_k_cluster(cluster_to_id_duplicate,80)"
      ],
      "execution_count": null,
      "outputs": [
        {
          "output_type": "stream",
          "name": "stdout",
          "text": [
            "size: 109 cluster_id: 32952\n",
            "size: 97 cluster_id: 9952\n",
            "size: 97 cluster_id: 1254\n",
            "size: 85 cluster_id: 14527\n",
            "size: 76 cluster_id: 3144\n",
            "size: 74 cluster_id: 10546\n",
            "size: 70 cluster_id: 31584\n",
            "size: 58 cluster_id: 8980\n",
            "size: 58 cluster_id: 801\n",
            "size: 54 cluster_id: 12\n",
            "size: 53 cluster_id: 1425\n",
            "size: 51 cluster_id: 7982\n",
            "size: 51 cluster_id: 1565\n",
            "size: 49 cluster_id: 689\n",
            "size: 47 cluster_id: 10276\n",
            "size: 47 cluster_id: 8056\n",
            "size: 44 cluster_id: 10285\n",
            "size: 43 cluster_id: 15440\n",
            "size: 42 cluster_id: 8833\n",
            "size: 40 cluster_id: 3927\n",
            "size: 38 cluster_id: 15730\n",
            "size: 38 cluster_id: 11636\n",
            "size: 38 cluster_id: 7675\n",
            "size: 37 cluster_id: 33421\n",
            "size: 37 cluster_id: 6425\n",
            "size: 37 cluster_id: 444\n",
            "size: 36 cluster_id: 8344\n",
            "size: 36 cluster_id: 4022\n",
            "size: 35 cluster_id: 8595\n",
            "size: 35 cluster_id: 4611\n",
            "size: 35 cluster_id: 4356\n",
            "size: 33 cluster_id: 16937\n",
            "size: 33 cluster_id: 9630\n",
            "size: 33 cluster_id: 5054\n",
            "size: 33 cluster_id: 3822\n",
            "size: 32 cluster_id: 32745\n",
            "size: 32 cluster_id: 25389\n",
            "size: 32 cluster_id: 7144\n",
            "size: 32 cluster_id: 1766\n",
            "size: 31 cluster_id: 5370\n",
            "size: 30 cluster_id: 39014\n",
            "size: 30 cluster_id: 7702\n",
            "size: 30 cluster_id: 5716\n",
            "size: 30 cluster_id: 4385\n",
            "size: 30 cluster_id: 973\n",
            "size: 29 cluster_id: 15029\n",
            "size: 29 cluster_id: 8773\n",
            "size: 29 cluster_id: 7019\n",
            "size: 29 cluster_id: 3467\n",
            "size: 29 cluster_id: 564\n",
            "size: 28 cluster_id: 26121\n",
            "size: 28 cluster_id: 24420\n",
            "size: 28 cluster_id: 20936\n",
            "size: 28 cluster_id: 16731\n",
            "size: 28 cluster_id: 10244\n",
            "size: 28 cluster_id: 5800\n",
            "size: 28 cluster_id: 2953\n",
            "size: 28 cluster_id: 2801\n",
            "size: 28 cluster_id: 2052\n",
            "size: 28 cluster_id: 1664\n",
            "size: 28 cluster_id: 1567\n",
            "size: 28 cluster_id: 1428\n",
            "size: 28 cluster_id: 1066\n",
            "size: 27 cluster_id: 7863\n",
            "size: 26 cluster_id: 15095\n",
            "size: 26 cluster_id: 13851\n",
            "size: 26 cluster_id: 10969\n",
            "size: 26 cluster_id: 7746\n",
            "size: 26 cluster_id: 7275\n",
            "size: 26 cluster_id: 5882\n",
            "size: 26 cluster_id: 5204\n",
            "size: 26 cluster_id: 5179\n",
            "size: 26 cluster_id: 4784\n",
            "size: 26 cluster_id: 3992\n",
            "size: 26 cluster_id: 1999\n",
            "size: 25 cluster_id: 38858\n",
            "size: 25 cluster_id: 12001\n",
            "size: 25 cluster_id: 5444\n",
            "size: 25 cluster_id: 2478\n",
            "size: 25 cluster_id: 1833\n"
          ]
        }
      ]
    },
    {
      "cell_type": "code",
      "metadata": {
        "colab": {
          "base_uri": "https://localhost:8080/"
        },
        "id": "K5F0p6g966bU",
        "outputId": "f592fb49-1d0f-49b6-dab2-33c4ae9da65b"
      },
      "source": [
        "for qid in cluster_to_id_duplicate[9952]:\n",
        "  print(id_to_sentence[qid])"
      ],
      "execution_count": null,
      "outputs": [
        {
          "output_type": "stream",
          "name": "stdout",
          "text": [
            "what do you think about the idea of narendra modi about 500 and 1 thousand notes\n",
            "what do you think about narendra modi s decision about banning 500rs and 1 thousand rs notes and what will be the effects do this make corruption free india\n",
            "what does balaji vishwanathan think about the ban of rupee 500 and rupee 1 thousand currency notes in india\n",
            "what do you think is the reason for pm modi s instant decision to ban rupee 500 and rupee 1 thousand notes\n",
            "what as your reaction when your heard about the scraping currency notes of inr 500 and 1 thousand\n",
            "what is your opinion about narendra modis banning on 500 and 1 thousand\n",
            "what are you views pros cons on ban of 500 and 1 thousand notes by goverment\n",
            "do not you think modi will repeal decision to ban 500 and 1 thousand notes as it will cause high inconvenience\n",
            "what is your reaction about the ban on rs 500 and rs 1 thousand notes will not it create a chaos and harm the economy\n",
            "what do you think about the ban on 500 and 1 thousand denomination notes in india\n",
            "is this move of banning 500 and 1 thousand rupee notes right\n",
            "what is balaji viswanathan s opinion on the indian prime minister modi s new policy about illegalization of 500 and 1 thousand currency notes\n",
            "what do you think of prime minister narendra modi s decision to introduce new inr 500 and inr 2 thousand currency notes\n",
            "what do you think about the indian government policy of not circulating inr 500 and inr 1 thousand\n",
            "what are your views on modi governments decision to demonetize 500 and 1 thousand rupee notes how will this affect economy\n",
            "what are your views on ban of 500 and 1 thousand rupee notes in india\n",
            "what will be the result of banning 500 and 1 thousand rupees note in india\n",
            "what are your views on banning 500 and 1 thousand rupee notes how does it affect black money and is it really gonna work and expose all the black money\n",
            "how do you see the pm modi s move of banning old 500 and 1 thousand rupee currency notes\n",
            "what do you think of the government s move of banning old rs 500 and rs 1 thousand notes\n",
            "what do you think of the decision by the indian government to demonetize 500 and 1 thousand rupee notes\n",
            "what do you think about ban on rs 500 and rs 1 thousand currency notes\n",
            "how does invalidating the current rs 500 and rs 1 thousand currency notes help in weeding out black money\n",
            "why is the government abruptly banning the 500 rupees and the 1 thousand rupees currency notes in india\n",
            "what is the effect of demonetization of 500 and 1 thousand rupees note\n",
            "what do you think about decision by the indian government to demonetise 500 and 1 thousand rupees note\n",
            "what do you think about modi government banning 500 and 1 thousand currency note from 9th november\n",
            "do you think indian governments decision to demonetize the 500 and 1 thousand rupee note is a sudden action\n",
            "what do you think will be the effect of modi government s decision of invalidating the rs 500 and rs 1 thousand notes\n",
            "what are the full implications of the indian government s decision to withdraw all the old 500 and 1 thousand rupee notes from circulation\n",
            "what is your opinion about the decision on removal of 500 and 1 thousand rupees currency notes\n",
            "what is the use of demonetizing rs 500 and rs 1 thousand notes\n",
            "what are your views on the decision of narendra modi to discontinue the use of 500 and 1 thousand currency notes\n",
            "the decision of indian government to demonetize rupee 500 and rupee 1 thousand notes is right or wrong\n",
            "what do you think of the decision by the indian government to replace 1 thousand notes with 2 thousand notes\n",
            "what do you think of pm s decision on the banning of 500 and 100 rupee notes\n",
            "what do you think of the decision by the indian government to demonetize 500 and 1 thousand rupee notes\n",
            "why does 500 and 1 thousand rs notes banned by goi and new notes of 500 and 2 thousand are issued\n",
            "what do you think about modi s new policy on the ban of rs 500 and rs 1 thousand notes\n",
            "what do you think about banning 500 and 1 thousand rupee notes in india\n",
            "was the decision by the indian government to demonetize 500 and 1 thousand notes right or is it a big scam\n",
            "what do you think about rbi s new move of banning 500 and 1 thousand notes\n",
            "what do you think of the move of banning 500 and 1 thousand rupee notes in india nov 2016\n",
            "what do you think about modi government decision to ban rupee 500 rupee 1 thousand notes\n",
            "what are your views on the ban of rs 500 and rs 1 thousand notes by the indian government pros cons\n",
            "what do you think of abolishing 500 and 1 thousand rupee currency notes by the indian government\n",
            "what is your opinion on pm narendra modi s decision to ban inr 500 and inr 1 thousand notes\n",
            "what do you think of mr modi s decision to discontinue rs 500 and 1 thousand currencies as of midnight november 8th\n",
            "is modi s decision on demonetization of 500 and 1 thousand notes welcomed by public\n",
            "what are your views on pm modi s decision on discontinuing 500 and 1 thousand rs notes\n",
            "is our pm modi doing the correct thing with 500 and 1 thousand rs notes\n",
            "why narendra modi banned 500 and 1 thousand notes in india\n",
            "what would be effect of 500 and 1 thousand rs notes ban\n",
            "why central govt banned old 500 and 1 thousand rs note but issued new 500 and 2 thousand rs note\n",
            "what is balaji viswanathan s take on 500 and 1 thousand rupees currency notes ban in india\n",
            "what do you think of the move by the govt to scrap 500 and 1 thousand rupee notes\n",
            "what are the possible implications of demonetization of 500 and 1 thousand rupee notes\n",
            "what do you think about the modi s sudden decision to scrap 500 and 1 thousand rs denomination\n",
            "what does balaji vishwanathan think about modi s new currency idea\n",
            "what is your opinion on indian prime minister modi s new policy about illegalization of 500 and 1 thousand currency notes\n",
            "how do you view the indian government s decision to fight black money by scrapping 500 rupee and 1 thousand rupee notes\n",
            "what are going to be the rammifications of the indian government s decision affecting invalid rupee 500 rupee 1 thousand currency notes\n",
            "what is your view on the move to scrap 500 and 1 thousand rupee notes what will be its effects\n",
            "what is your opinion on the discontinuation of 500 and 1 thousand rupee notes\n",
            "why indian government abruptly announced the demonetization of 500 and 1 thousand rupees currency\n",
            "what are your views on demonetization of 500 and 1 thousand rupee notes by the modi government\n",
            "do you think new 500 and new 2 thousand notes will help eradicating black money\n",
            "what do you think about banning rupee 500 and rupee 1 thousand notes\n",
            "what are your views about governments decision to stop flow of 1 thousand and 500 rupee notes\n",
            "what are your views about the recent decision of the government to bring new notes of 500 and withdraw the old notes of 500 and 100\n",
            "why is rupee 500 rupee 1 thousand notes banned in india\n",
            "what does balaji vishwanathan think about 500 1 thousand notes banning and issuance of rupee 2 thousand notes\n",
            "will the ban on 500 and 100 rupee have any economic impact\n",
            "is the decision to abandon rs 500 and rs 1 thousand denominations notes by pm modi justified will it help in any way to curb the black money\n",
            "what is your view on the recent demonetization in india\n",
            "what are your views on demonetization of rupee 500 and rupee 1 thousand notes in india\n",
            "what is your view on demonetization in india\n",
            "what is your view on the recent demonetisation of higher value currencies in india\n",
            "what are your views on modi s demonetization move\n",
            "what are the best benefits to government after 500 and 1 thousand rs note ban\n",
            "what do you think of modi government s move of curbing black money by making rs500 and 1 thousand notes illegal\n",
            "500 and 1 thousand rupees notes are illegal from today says indian prine minister what is your say in this will it help in curbing black money\n",
            "what are your views about demonetisation in india\n",
            "what does balaji vishwanathan think about currency announcement made by modi\n",
            "what do you think about the bjp government not making the black money list public\n",
            "how is the decision made by indian govt to demonetize rupee 500 and rupee 1 thousand is useful\n",
            "what is balaji vishwanathan s take on banning 500 and 1 thousand rs currency\n",
            "taking the nation by surprise the govt of india has put a ban on all rupee 500 and rupee 1 thousand notes from this midnight what is your opinion\n",
            "what do you think of banning rupee 500 and rupee 1 thousand notes in india as it is a sudden decision with out any prior information and required time\n",
            "what was your initial reaction on getting to know about the ban on the current rupee 500 and rupee 1 thousand notes\n",
            "what is your view opinion about govt scrapping rs 500 and rs 1 thousand currency notes\n",
            "how do you personally react on modi government imposing ban on 500 1 thousand rs notes\n",
            "what are your views on pm modi scrapping rupee 500 and rupee 1 thousand notes and introducing rupee 2 thousand\n",
            "do you think scraping rs 500 and rs 100 notes marks the beginning of curbing of the black money laundering in india\n",
            "what is your take on prohibition of 1 thousand and 500 rupees note is it going to boost our economy and give us the country we wish for\n",
            "what is your view on demonetisation\n",
            "what is your opinion on the demonetization of currency by indian government\n"
          ]
        }
      ]
    },
    {
      "cell_type": "code",
      "metadata": {
        "colab": {
          "base_uri": "https://localhost:8080/"
        },
        "id": "kwkJhMd09BSd",
        "outputId": "b2780a97-72bd-4017-ff1c-5d7afaa83724"
      },
      "source": [
        "find_top_k_cluster(cluster_to_id_nonduplicate,30)"
      ],
      "execution_count": null,
      "outputs": [
        {
          "output_type": "stream",
          "name": "stdout",
          "text": [
            "size: 5674 cluster_id: 103021\n",
            "size: 842 cluster_id: 3149\n",
            "size: 624 cluster_id: 90592\n",
            "size: 362 cluster_id: 82944\n",
            "size: 328 cluster_id: 54931\n",
            "size: 321 cluster_id: 149471\n",
            "size: 275 cluster_id: 111836\n",
            "size: 254 cluster_id: 23617\n",
            "size: 247 cluster_id: 113697\n",
            "size: 243 cluster_id: 27340\n",
            "size: 242 cluster_id: 10882\n",
            "size: 211 cluster_id: 15241\n",
            "size: 207 cluster_id: 79751\n",
            "size: 188 cluster_id: 74623\n",
            "size: 182 cluster_id: 14320\n",
            "size: 161 cluster_id: 149282\n",
            "size: 159 cluster_id: 17207\n",
            "size: 156 cluster_id: 30510\n",
            "size: 139 cluster_id: 9835\n",
            "size: 135 cluster_id: 129452\n",
            "size: 135 cluster_id: 113315\n",
            "size: 124 cluster_id: 71340\n",
            "size: 120 cluster_id: 122492\n",
            "size: 106 cluster_id: 115727\n",
            "size: 104 cluster_id: 106446\n",
            "size: 98 cluster_id: 108220\n",
            "size: 97 cluster_id: 84707\n",
            "size: 96 cluster_id: 47606\n",
            "size: 91 cluster_id: 74102\n",
            "size: 91 cluster_id: 2676\n"
          ]
        }
      ]
    },
    {
      "cell_type": "code",
      "metadata": {
        "colab": {
          "base_uri": "https://localhost:8080/"
        },
        "id": "OW5wZL0x-APA",
        "outputId": "1503c48e-64f0-443a-c851-7d8dd756a85d"
      },
      "source": [
        "for qid in cluster_to_id_nonduplicate[2676]:\n",
        "  print(id_to_sentence[qid])"
      ],
      "execution_count": null,
      "outputs": [
        {
          "output_type": "stream",
          "name": "stdout",
          "text": [
            "how can you determine the lewis structure for dimethylamine\n",
            "how is the lewis structure for ch3o determined\n",
            "how can you determine the lewis structure for co\n",
            "how can you determine the lewis structure for no\n",
            "how do you determine the lewis structure for hclo3\n",
            "how can you determine the lewis structure for sf5\n",
            "how can you determine the lewis structure for scl6\n",
            "how can you determine the lewis structure of ch2oh\n",
            "how do you determine the lewis structure of ch3och3\n",
            "how can the lewis structure for cof2 be determined\n",
            "how is the lewis structure for c3h6 determined\n",
            "how can the lewis structure for ch2chch3 be determined\n",
            "how do you determine the lewis structure of c2h2\n",
            "how do you determine the lewis structure of cl2co\n",
            "how do you determine the lewis structure for h2c2o4\n",
            "how can you determine the lewis structure for ch3cn\n",
            "how is the lewis structure for pf3cl2 determined\n",
            "how can you determine the lewis structure for ch20\n",
            "how is the lewis structure for brcn determined\n",
            "how can the lewis structure for nh2nh2 be determined\n",
            "how is the lewis structure for ch3cho determined\n",
            "how can you determine the lewis structure for c2h2br2\n",
            "how do you determine the lewis structure for fcn\n",
            "how can you determine the lewis structure for sodium carbonate\n",
            "how do you determine the lewis structure for hydrogen cyanide\n",
            "how is the lewis structure for nabr determined\n",
            "how do you determine the lewis structure for calcium carbonate\n",
            "how can you determine the lewis structure of so3\n",
            "how do you determine the lewis structure of phosphate ion\n",
            "how can you the lewis structure of hclo2 be determined\n",
            "how do you determine the lewis structure of hydroxide ion\n",
            "how can you determine the lewis structure for na2o\n",
            "how can you determine the lewis structure for boron\n",
            "how can you determine the lewis structure of alcl3\n",
            "how can you determine the lewis structure for n2o4\n",
            "how can the lewis structure for xef4 be determined\n",
            "how is the lewis structure for carbonic acid determined\n",
            "how can you determine the lewis structure for ozone\n",
            "how can you determine the lewis structure for hydrogen carbonate\n",
            "how can you determine the lewis structure for o2\n",
            "how is the lewis structure for propane determined\n",
            "how can you determine the lewis structure for glucose\n",
            "how can you determine the lewis structure for formaldehyde\n",
            "how is the lewis structure for cyanide determined\n",
            "how can you determine the lewis structure for pcl5\n",
            "how is the lewis structure for urea determined\n",
            "how can you determine the lewis structure for chlorite\n",
            "how can you determine the lewis structure for hypochlorite\n",
            "how can you determine the lewis structure for mno4\n",
            "how can you determine the lewis structure for phosphorus\n",
            "how do you determine lewis structure for phosphorus trichloride\n",
            "how is the lewis structure for h2so4 determined\n",
            "how can you determine the resonance structure of so2\n",
            "how do you determine the lewis structure of so2\n",
            "how is the lewis dot structure determined\n",
            "how can you determine the lewis dot structure for cl2co\n",
            "how is the lewis dot structure for mg determined\n",
            "how do you determine the lewis dot structure of of2\n",
            "how can you determine the lewis structure for sulfuric acid\n",
            "how is the lewis structure of sulfuric acid determined\n",
            "what is the lewis dot structure of scl2 how is it determined\n",
            "how do you determine the lewis structure for aluminum oxide\n",
            "how can you determine the lewis structure for clo4\n",
            "how can you determine the lewis structure of ocl2\n",
            "how can you determine the lewis dot structure for sulfur trioxide\n",
            "how can you determine the lewis dot structure for c2h5oh\n",
            "how is the lewis dot structure for nitric acid determined\n",
            "how can you determine the lewis dot structure for sulfur\n",
            "how do you determine the lewis dot structure for calcium\n",
            "how do you determine the lewis dot structure for sulfate\n",
            "how do you determine the lewis dot structure for sicl4\n",
            "how is the lewis dot structure for acetone determined\n",
            "how can the lewis dot structure of magnesium be determined\n",
            "what is the lewis dot structure for br2\n",
            "how is the lewis dot structure for ammonium determined\n",
            "how do you determine the lewis dot structure for calcium oxide\n",
            "how is the lewis dot structure for hno3 determined\n",
            "how can you determine the lewis structure for clf2\n",
            "how is the lewis structure for carbonate determined\n",
            "how is the lewis dot structure for glycerol determined\n",
            "what is the lewis dot structure for carbon disulfide how is this determined\n",
            "how can you determine the lewis dot structure of so3\n",
            "how is the lewis dot structure for cocl2 determined\n",
            "how is the lewis dot structure for icl2 determined\n",
            "how is the lewis dot structure for co determined\n",
            "how is the lewis dot structure for al determined\n",
            "how is the lewis dot structure for ch3oh determined\n",
            "how is the lewis dot structure of boron nitride determined\n",
            "what is the lewis dot structure for fluorine\n",
            "what is the lewis dot structure for fe\n",
            "if hillary clinton was found out to be pregnant how would the 2016 election change\n"
          ]
        }
      ]
    },
    {
      "cell_type": "code",
      "metadata": {
        "id": "szjGyW42PrdM"
      },
      "source": [
        "def save_cluster(cluster_to_id, filename):\n",
        "  x = {}\n",
        "  for cluster_key in cluster_to_id.keys():\n",
        "    length = len(cluster_to_id[cluster_key])\n",
        "\n",
        "    x[cluster_key] = {\"id_list\": cluster_to_id[cluster_key], \"length\": length}\n",
        "\n",
        "  with open(filename, 'w') as fp:\n",
        "    json.dump(x, fp, sort_keys=True, indent=4)\n",
        "  \n",
        "  return x\n",
        "\n",
        "nd_dict = save_cluster(cluster_to_id_nonduplicate, \"/content/gdrive/MyDrive/QuoraQuestions/non_duplicate_cluster.json\")\n"
      ],
      "execution_count": null,
      "outputs": []
    },
    {
      "cell_type": "code",
      "metadata": {
        "id": "zyg6C5R9QdlH"
      },
      "source": [
        "d_dict = save_cluster(cluster_to_id_duplicate, \"/content/gdrive/MyDrive/QuoraQuestions/duplicate_cluster.json\")"
      ],
      "execution_count": null,
      "outputs": []
    }
  ]
}